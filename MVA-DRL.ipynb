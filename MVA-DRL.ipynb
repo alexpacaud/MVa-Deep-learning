{
  "nbformat": 4,
  "nbformat_minor": 0,
  "metadata": {
    "kernelspec": {
      "name": "python3",
      "display_name": "Python 3"
    },
    "language_info": {
      "codemirror_mode": {
        "name": "ipython",
        "version": 3
      },
      "file_extension": ".py",
      "mimetype": "text/x-python",
      "name": "python",
      "nbconvert_exporter": "python",
      "pygments_lexer": "ipython3",
      "version": "3.5.7"
    },
    "colab": {
      "name": "DQN_project_MVA.ipynb",
      "provenance": []
    },
    "accelerator": "GPU"
  },
  "cells": [
    {
      "cell_type": "markdown",
      "metadata": {
        "id": "kAFJhebzeTne",
        "colab_type": "text"
      },
      "source": [
        "**You may need to install [OpenCV](https://pypi.python.org/pypi/opencv-python) and [scikit-video](http://www.scikit-video.org/stable/).**"
      ]
    },
    {
      "cell_type": "code",
      "metadata": {
        "id": "OQgrbztuoLXO",
        "colab_type": "code",
        "outputId": "1bf33718-8629-4789-bc8b-3954b3a4f041",
        "colab": {
          "base_uri": "https://localhost:8080/",
          "height": 173
        }
      },
      "source": [
        "!pip install scikit-video"
      ],
      "execution_count": 1,
      "outputs": [
        {
          "output_type": "stream",
          "text": [
            "Collecting scikit-video\n",
            "\u001b[?25l  Downloading https://files.pythonhosted.org/packages/b1/a6/c69cad508139a342810ae46e946ebb3256aa6e42f690d901bb68f50582e3/scikit_video-1.1.11-py2.py3-none-any.whl (2.3MB)\n",
            "\u001b[K     |████████████████████████████████| 2.3MB 2.7MB/s \n",
            "\u001b[?25hRequirement already satisfied: scipy in /usr/local/lib/python3.6/dist-packages (from scikit-video) (1.4.1)\n",
            "Requirement already satisfied: pillow in /usr/local/lib/python3.6/dist-packages (from scikit-video) (6.2.2)\n",
            "Requirement already satisfied: numpy in /usr/local/lib/python3.6/dist-packages (from scikit-video) (1.17.5)\n",
            "Installing collected packages: scikit-video\n",
            "Successfully installed scikit-video-1.1.11\n"
          ],
          "name": "stdout"
        }
      ]
    },
    {
      "cell_type": "code",
      "metadata": {
        "id": "lPlRQDWleTnh",
        "colab_type": "code",
        "outputId": "3382e673-8ca0-4e30-d96d-fdb209f91708",
        "colab": {
          "base_uri": "https://localhost:8080/",
          "height": 80
        }
      },
      "source": [
        "import keras\n",
        "import numpy as np\n",
        "import io\n",
        "import base64\n",
        "from IPython.display import HTML\n",
        "import skvideo.io\n",
        "import cv2\n",
        "import json\n",
        "\n",
        "from keras.models import Sequential,model_from_json\n",
        "from keras.layers.core import Dense\n",
        "from keras.optimizers import sgd\n",
        "from keras.layers import Conv2D, MaxPooling2D, Activation, AveragePooling2D,Reshape,BatchNormalization,Flatten,Dropout"
      ],
      "execution_count": 2,
      "outputs": [
        {
          "output_type": "stream",
          "text": [
            "Using TensorFlow backend.\n"
          ],
          "name": "stderr"
        },
        {
          "output_type": "display_data",
          "data": {
            "text/html": [
              "<p style=\"color: red;\">\n",
              "The default version of TensorFlow in Colab will soon switch to TensorFlow 2.x.<br>\n",
              "We recommend you <a href=\"https://www.tensorflow.org/guide/migrate\" target=\"_blank\">upgrade</a> now \n",
              "or ensure your notebook will continue to use TensorFlow 1.x via the <code>%tensorflow_version 1.x</code> magic:\n",
              "<a href=\"https://colab.research.google.com/notebooks/tensorflow_version.ipynb\" target=\"_blank\">more info</a>.</p>\n"
            ],
            "text/plain": [
              "<IPython.core.display.HTML object>"
            ]
          },
          "metadata": {
            "tags": []
          }
        }
      ]
    },
    {
      "cell_type": "markdown",
      "metadata": {
        "id": "rB-aQ4VveTnl",
        "colab_type": "text"
      },
      "source": [
        "# MiniProject on Deep Reinforcement Learning"
      ]
    },
    {
      "cell_type": "markdown",
      "metadata": {
        "id": "5R0_qKrLeTnn",
        "colab_type": "text"
      },
      "source": [
        "__Notations__: $E_p$ is the expectation under probability $p$. Please justify each of your answer and widely comment your code."
      ]
    },
    {
      "cell_type": "markdown",
      "metadata": {
        "id": "lrAsdi28eTno",
        "colab_type": "text"
      },
      "source": [
        "# Context"
      ]
    },
    {
      "cell_type": "markdown",
      "metadata": {
        "id": "fo3l7Qx3eTnp",
        "colab_type": "text"
      },
      "source": [
        "In a reinforcement learning algorithm, we modelize each step $t$ as an action $a_t$ obtained from a state $s_t$, i.e. $\\{(a_{t},s_{t})_{t\\leq T}\\}$ having the Markov property. We consider a discount factor $\\gamma \\in [0,1]$ that ensures convergence. The goal is to find among all the policies $\\pi$, one that maximizes the expected reward:\n",
        "\n",
        "\\begin{equation*}\n",
        "R(\\pi)=\\sum_{t\\leq T}E_{p^{\\pi}}[\\gamma^t r(s_{t},a_{t})] \\> ,\n",
        "\\end{equation*}\n",
        "\n",
        "where: \n",
        "\\begin{equation*}p^{\\pi}(a_{0},a_{1},s_{1},...,a_{T},s_{T})=p(a_{0})\\prod_{t=1}^{T}\\pi(a_{t}|s_{t})p(s_{t+1}|s_{t},a_{t}) \\> .\n",
        "\\end{equation*}\n",
        "\n",
        "We note the $Q$-function:\n",
        "\n",
        "\\begin{equation*}Q^\\pi(s,a)=E_{p^{\\pi}}[\\sum_{t\\leq T}\\gamma^{t}r(s_{t},a_{t})|s_{0}=s,a_{0}=a] \\> .\n",
        "\\end{equation*}\n",
        "\n",
        "Thus, the optimal Q function is:\n",
        "\\begin{equation*}\n",
        "Q^*(s,a)=\\max_{\\pi}Q^\\pi(s,a) \\> .\n",
        "\\end{equation*}\n",
        "\n",
        "In this project, we will apply the deep reinforcement learning techniques to a simple game: an agent will have to learn from scratch a policy that will permit it maximizing a reward."
      ]
    },
    {
      "cell_type": "markdown",
      "metadata": {
        "id": "rDwVTvRdeTnq",
        "colab_type": "text"
      },
      "source": [
        "## The environment, the agent and the game"
      ]
    },
    {
      "cell_type": "markdown",
      "metadata": {
        "id": "94qlq_94eTnr",
        "colab_type": "text"
      },
      "source": [
        "### The environment"
      ]
    },
    {
      "cell_type": "markdown",
      "metadata": {
        "id": "Pu_uJd4PeTns",
        "colab_type": "text"
      },
      "source": [
        "```Environment``` is an abstract class that represents the states, rewards, and actions to obtain the new state."
      ]
    },
    {
      "cell_type": "code",
      "metadata": {
        "id": "2YWVAoGdeTnu",
        "colab_type": "code",
        "colab": {}
      },
      "source": [
        "class Environment(object):\n",
        "    def __init__(self):\n",
        "        pass\n",
        "\n",
        "    def act(self, act):\n",
        "        \"\"\"\n",
        "        One can act on the environment and obtain its reaction:\n",
        "        - the new state\n",
        "        - the reward of the new state\n",
        "        - should we continue the game?\n",
        "\n",
        "        :return: state, reward, game_over\n",
        "        \"\"\"\n",
        "        pass\n",
        "\n",
        "\n",
        "    def reset(self):\n",
        "        \"\"\"\n",
        "        Reinitialize the environment to a random state and returns\n",
        "        the original state\n",
        "\n",
        "        :return: state\n",
        "        \"\"\"\n",
        "        pass\n",
        "    \n",
        "    def draw(self):\n",
        "        \"\"\"\n",
        "        Visualize in the console or graphically the current state\n",
        "        \"\"\"\n",
        "        pass"
      ],
      "execution_count": 0,
      "outputs": []
    },
    {
      "cell_type": "markdown",
      "metadata": {
        "id": "KKXJYZsSeTny",
        "colab_type": "text"
      },
      "source": [
        "The method ```act``` allows to act on the environment at a given state $s_t$ (stored internally), via action $a_t$. The method will return the new state $s_{t+1}$, the reward $r(s_{t},a_{t})$ and determines if $t\\leq T$ (*game_over*).\n",
        "\n",
        "The method ```reset``` simply reinitializes the environment to a random state $s_0$.\n",
        "\n",
        "The method ```draw``` displays the current state $s_t$ (this is useful to check the behavior of the Agent).\n",
        "\n",
        "We modelize $s_t$ as a tensor, while $a_t$ is an integer."
      ]
    },
    {
      "cell_type": "markdown",
      "metadata": {
        "id": "Rv8Eq_lbeTnz",
        "colab_type": "text"
      },
      "source": [
        "### The Agent"
      ]
    },
    {
      "cell_type": "markdown",
      "metadata": {
        "id": "Pc13YewveTn0",
        "colab_type": "text"
      },
      "source": [
        "The goal of the ```Agent``` is to interact with the ```Environment``` by proposing actions $a_t$ obtained from a given state $s_t$ to attempt to maximize its __reward__ $r(s_t,a_t)$. We propose the following abstract class:"
      ]
    },
    {
      "cell_type": "code",
      "metadata": {
        "id": "Hf_vq9OOeTn1",
        "colab_type": "code",
        "colab": {}
      },
      "source": [
        "class Agent(object):\n",
        "    def __init__(self, epsilon=0.1, n_action=4):\n",
        "        self.epsilon = epsilon\n",
        "        self.n_action = n_action\n",
        "    \n",
        "    def set_epsilon(self,e):\n",
        "        self.epsilon = e\n",
        "\n",
        "    def act(self,s,train=True):\n",
        "        \"\"\" This function should return the next action to do:\n",
        "        an integer between 0 and 4 (not included) with a random exploration of epsilon\"\"\"\n",
        "        if train:\n",
        "            if np.random.rand() <= self.epsilon:\n",
        "                a = np.random.randint(0, self.n_action, size=1)[0]\n",
        "            else:\n",
        "                a = self.learned_act(s)\n",
        "        else: # in some cases, this can improve the performance.. remove it if poor performances\n",
        "            a = self.learned_act(s)\n",
        "\n",
        "        return a\n",
        "\n",
        "    def learned_act(self,s):\n",
        "        \"\"\" Act via the policy of the agent, from a given state s\n",
        "        it proposes an action a\"\"\"\n",
        "        pass\n",
        "\n",
        "    def reinforce(self, s, n_s, a, r, game_over_):\n",
        "        \"\"\" This function is the core of the learning algorithm. \n",
        "        It takes as an input the current state s_, the next state n_s_\n",
        "        the action a_ used to move from s_ to n_s_ and the reward r_.\n",
        "        \n",
        "        Its goal is to learn a policy.\n",
        "        \"\"\"\n",
        "        pass\n",
        "\n",
        "    def save(self):\n",
        "        \"\"\" This function returns basic stats if applicable: the\n",
        "        loss and/or the model\"\"\"\n",
        "        pass\n",
        "\n",
        "    def load(self):\n",
        "        \"\"\" This function allows to restore a model\"\"\"\n",
        "        pass"
      ],
      "execution_count": 0,
      "outputs": []
    },
    {
      "cell_type": "markdown",
      "metadata": {
        "id": "5-TM041BeTn7",
        "colab_type": "text"
      },
      "source": [
        "***\n",
        "__Question 1__:\n",
        "Explain the function act. Why is ```epsilon``` essential?"
      ]
    },
    {
      "cell_type": "markdown",
      "metadata": {
        "id": "T99qooKqeTn9",
        "colab_type": "text"
      },
      "source": [
        "The aim of the function act is to try to solve the exploration-exploitation dilemma. \n",
        "The environment does not reveal the reward of the actions not selected by the learner. Therefore, the learner should gain information by repeatedly selecting all actions. This is called exploration. However, each time the learner selects a bad action, it suffers some regret. The learner should then try and reduce the regret by repeatedly selecting the best action. This is called exploitation. The result is of these two opposite problems is the exploration-exploitation dilemma. One way of dealing with it is to use an $\\epsilon$-greedy Algorithm which consist in exploring with probability $\\epsilon$ by choosing a random action and exploiting with probability 1-$\\epsilon$ by choosing the best action using the information already collected. If $\\epsilon=1$, then we only explore and never try to reduce our regret. If $\\epsilon=0$, then we never explore and have nearly no chance of finding the best policy. Therefore, $\\epsilon$ is essential ($0<\\epsilon<1$).\n"
      ]
    },
    {
      "cell_type": "markdown",
      "metadata": {
        "id": "v7pfIuBEeTn-",
        "colab_type": "text"
      },
      "source": [
        "***\n",
        "### The Game"
      ]
    },
    {
      "cell_type": "markdown",
      "metadata": {
        "id": "IrZ8kchXeTn_",
        "colab_type": "text"
      },
      "source": [
        "The ```Agent``` and the ```Environment``` work in an interlaced way as in the following (take some time to understand this code as it is the core of the project)\n",
        "\n",
        "```python\n",
        "\n",
        "epoch = 300\n",
        "env = Environment()\n",
        "agent = Agent()\n",
        "\n",
        "\n",
        "# Number of won games\n",
        "score = 0\n",
        "loss = 0\n",
        "\n",
        "\n",
        "for e in range(epoch):\n",
        "    # At each epoch, we restart to a fresh game and get the initial state\n",
        "    state = env.reset()\n",
        "    # This assumes that the games will end\n",
        "    game_over = False\n",
        "\n",
        "    win = 0\n",
        "    lose = 0\n",
        "    \n",
        "    while not game_over:\n",
        "        # The agent performs an action\n",
        "        action = agent.act(state)\n",
        "\n",
        "        # Apply an action to the environment, get the next state, the reward\n",
        "        # and if the games end\n",
        "        prev_state = state\n",
        "        state, reward, game_over = env.act(action)\n",
        "\n",
        "        # Update the counters\n",
        "        if reward > 0:\n",
        "            win = win + reward\n",
        "        if reward < 0:\n",
        "            lose = lose -reward\n",
        "\n",
        "        # Apply the reinforcement strategy\n",
        "        loss = agent.reinforce(prev_state, state,  action, reward, game_over)\n",
        "\n",
        "    # Save as a mp4\n",
        "    if e % 10 == 0:\n",
        "        env.draw(e)\n",
        "\n",
        "    # Update stats\n",
        "    score += win-lose\n",
        "\n",
        "    print(\"Epoch {:03d}/{:03d} | Loss {:.4f} | Win/lose count {}/{} ({})\"\n",
        "          .format(e, epoch, loss, win, lose, win-lose))\n",
        "    agent.save()\n",
        "```"
      ]
    },
    {
      "cell_type": "markdown",
      "metadata": {
        "id": "8ZHUecJdeToB",
        "colab_type": "text"
      },
      "source": [
        "# The game, *eat cheese*"
      ]
    },
    {
      "cell_type": "markdown",
      "metadata": {
        "id": "73C-sBIleToC",
        "colab_type": "text"
      },
      "source": [
        "A rat runs on an island and tries to eat as much as possible. The island is subdivided into $N\\times N$ cells, in which there are cheese (+0.5) and poisonous cells (-1). The rat has a visibility of 2 cells (thus it can see $5^2$ cells). The rat is given a time $T$ to accumulate as much food as possible. It can perform 4 actions: going up, down, left, right. \n",
        "\n",
        "The goal is to code an agent to solve this task that will learn by trial and error. We propose the following environment:"
      ]
    },
    {
      "cell_type": "code",
      "metadata": {
        "id": "zo000FmQeToF",
        "colab_type": "code",
        "colab": {}
      },
      "source": [
        "class Environment(object):\n",
        "    def __init__(self, grid_size=10, max_time=500, temperature=0.1):\n",
        "        grid_size = grid_size+4\n",
        "        self.grid_size = grid_size\n",
        "        self.max_time = max_time\n",
        "        self.temperature = temperature\n",
        "\n",
        "        #board on which one plays\n",
        "        self.board = np.zeros((grid_size,grid_size))\n",
        "        self.position = np.zeros((grid_size,grid_size))\n",
        "\n",
        "        # coordinate of the rat\n",
        "        self.x = 0\n",
        "        self.y = 1\n",
        "\n",
        "        # self time\n",
        "        self.t = 0\n",
        "\n",
        "        self.scale=16\n",
        "\n",
        "        self.to_draw = np.zeros((max_time+2, grid_size*self.scale, grid_size*self.scale, 3))\n",
        "\n",
        "\n",
        "    def draw(self,e):\n",
        "        skvideo.io.vwrite(str(e) + '.mp4', self.to_draw)\n",
        "\n",
        "    def get_frame(self,t):\n",
        "        b = np.zeros((self.grid_size,self.grid_size,3))+128\n",
        "        b[self.board>0,0] = 256\n",
        "        b[self.board < 0, 2] = 256\n",
        "        b[self.x,self.y,:]=256\n",
        "        b[-2:,:,:]=0\n",
        "        b[:,-2:,:]=0\n",
        "        b[:2,:,:]=0\n",
        "        b[:,:2,:]=0\n",
        "        \n",
        "        b =  cv2.resize(b, None, fx=self.scale, fy=self.scale, interpolation=cv2.INTER_NEAREST)\n",
        "\n",
        "        self.to_draw[t,:,:,:]=b\n",
        "\n",
        "\n",
        "    def act(self, action):\n",
        "        \"\"\"This function returns the new state, reward and decides if the\n",
        "        game ends.\"\"\"\n",
        "\n",
        "        self.get_frame(int(self.t))\n",
        "\n",
        "        self.position = np.zeros((self.grid_size, self.grid_size))\n",
        "\n",
        "        self.position[0:2,:]= -1\n",
        "        self.position[:,0:2] = -1\n",
        "        self.position[-2:, :] = -1\n",
        "        #self.position[-2:, :] = -1\n",
        "        self.position[:, -2:] = -1\n",
        "\n",
        "        self.position[self.x, self.y] = 1\n",
        "        if action == 0:\n",
        "            if self.x == self.grid_size-3:\n",
        "                self.x = self.x-1\n",
        "            else:\n",
        "                self.x = self.x + 1\n",
        "        elif action == 1:\n",
        "            if self.x == 2:\n",
        "                self.x = self.x+1\n",
        "            else:\n",
        "                self.x = self.x-1\n",
        "        elif action == 2:\n",
        "            if self.y == self.grid_size - 3:\n",
        "                self.y = self.y - 1\n",
        "            else:\n",
        "                self.y = self.y + 1\n",
        "        elif action == 3:\n",
        "            if self.y == 2:\n",
        "                self.y = self.y + 1\n",
        "            else:\n",
        "                self.y = self.y - 1\n",
        "        else:\n",
        "            RuntimeError('Error: action not recognized')\n",
        "\n",
        "        self.t = self.t + 1\n",
        "        reward = self.board[self.x, self.y]\n",
        "        self.board[self.x, self.y] = 0\n",
        "        game_over = self.t > self.max_time\n",
        "        state = np.concatenate((self.board.reshape(self.grid_size, self.grid_size,1),\n",
        "                        self.position.reshape(self.grid_size, self.grid_size,1)),axis=2)\n",
        "        state = state[self.x-2:self.x+3,self.y-2:self.y+3,:]\n",
        "\n",
        "        return state, reward, game_over\n",
        "\n",
        "    def reset(self):\n",
        "        \"\"\"This function resets the game and returns the initial state\"\"\"\n",
        "\n",
        "        self.x = np.random.randint(3, self.grid_size-3, size=1)[0]\n",
        "        self.y = np.random.randint(3, self.grid_size-3, size=1)[0]\n",
        "\n",
        "\n",
        "        bonus = 0.5*np.random.binomial(1,self.temperature,size=self.grid_size**2)\n",
        "        bonus = bonus.reshape(self.grid_size,self.grid_size)\n",
        "\n",
        "        malus = -1.0*np.random.binomial(1,self.temperature,size=self.grid_size**2)\n",
        "        malus = malus.reshape(self.grid_size, self.grid_size)\n",
        "\n",
        "        self.to_draw = np.zeros((self.max_time+2, self.grid_size*self.scale, self.grid_size*self.scale, 3))\n",
        "\n",
        "\n",
        "        malus[bonus>0]=0\n",
        "\n",
        "        self.board = bonus + malus\n",
        "\n",
        "        self.position = np.zeros((self.grid_size, self.grid_size))\n",
        "        self.position[0:2,:]= -1\n",
        "        self.position[:,0:2] = -1\n",
        "        self.position[-2:, :] = -1\n",
        "        #self.position[-2:, :] = -1\n",
        "        self.position[:, -2:] = -1\n",
        "        self.board[self.x,self.y] = 0\n",
        "        self.t = 0\n",
        "\n",
        "        state = np.concatenate((\n",
        "                               self.board.reshape(self.grid_size, self.grid_size,1),\n",
        "                        self.position.reshape(self.grid_size, self.grid_size,1)),axis=2)\n",
        "\n",
        "        state = state[self.x - 2:self.x + 3, self.y - 2:self.y + 3, :]\n",
        "        return state"
      ],
      "execution_count": 0,
      "outputs": []
    },
    {
      "cell_type": "markdown",
      "metadata": {
        "id": "CSGif_sSeToO",
        "colab_type": "text"
      },
      "source": [
        "The following elements are important because they correspond to the hyper parameters for this project:"
      ]
    },
    {
      "cell_type": "code",
      "metadata": {
        "id": "CTP9rSateToQ",
        "colab_type": "code",
        "colab": {}
      },
      "source": [
        "# parameters\n",
        "size = 13\n",
        "T=200\n",
        "temperature=0.3\n",
        "epochs_train=200 # set small when debugging\n",
        "epochs_test=20 # set small when debugging\n",
        "\n",
        "# display videos\n",
        "def display_videos(name):\n",
        "    video = io.open(name, 'r+b').read()\n",
        "    encoded = base64.b64encode(video)\n",
        "    return '''<video alt=\"test\" controls>\n",
        "                <source src=\"data:video/mp4;base64,{0}\" type=\"video/mp4\" />\n",
        "             </video>'''.format(encoded.decode('ascii'))"
      ],
      "execution_count": 0,
      "outputs": []
    },
    {
      "cell_type": "markdown",
      "metadata": {
        "id": "-WAvcN6VeToY",
        "colab_type": "text"
      },
      "source": [
        "__Question 2__ Explain the use of the arrays ```position``` and ```board```."
      ]
    },
    {
      "cell_type": "markdown",
      "metadata": {
        "id": "Wx-oORE_eToZ",
        "colab_type": "text"
      },
      "source": [
        "The position array is used to represent the position of the rat on the grid at the current state. The board array is used to represent the current state of the game (cells still containing cheese or poison).\n"
      ]
    },
    {
      "cell_type": "markdown",
      "metadata": {
        "id": "C71BVPuneToa",
        "colab_type": "text"
      },
      "source": [
        "## Random Agent"
      ]
    },
    {
      "cell_type": "markdown",
      "metadata": {
        "id": "zbZXLD4CeTob",
        "colab_type": "text"
      },
      "source": [
        "***\n",
        "__Question 3__ Implement a random Agent (only ```learned_act``` needs to be implemented):"
      ]
    },
    {
      "cell_type": "code",
      "metadata": {
        "id": "mBerZ-w9eToc",
        "colab_type": "code",
        "colab": {}
      },
      "source": [
        "class RandomAgent(Agent):\n",
        "    def __init__(self):\n",
        "        super(RandomAgent, self).__init__()\n",
        "        pass\n",
        "\n",
        "    def learned_act(self, s):\n",
        "        \"\"\"Random Agent gives back a random action between the 4 actions possible\"\"\"\n",
        "        return np.random.randint(4)"
      ],
      "execution_count": 0,
      "outputs": []
    },
    {
      "cell_type": "markdown",
      "metadata": {
        "id": "KoeZq72feTof",
        "colab_type": "text"
      },
      "source": [
        "***\n",
        "***\n",
        "__Question 4__ Visualize the game moves. You need to fill in the following function for the evaluation:"
      ]
    },
    {
      "cell_type": "code",
      "metadata": {
        "id": "bX0LEgKNeTog",
        "colab_type": "code",
        "colab": {}
      },
      "source": [
        "def test(agent,env,epochs,prefix=''):\n",
        "    # Number of won games\n",
        "    score = 0\n",
        "        \n",
        "    for e in range(epochs):\n",
        "        \n",
        "        ##### FILL IN HERE\n",
        "        # At each epoch, we restart to a fresh game and get the initial state\n",
        "        state = env.reset()\n",
        "        # This assumes that the games will end\n",
        "        game_over = False\n",
        "        \n",
        "        win = 0\n",
        "        lose = 0\n",
        " \n",
        "        while not game_over:\n",
        "            # The agent performs an action\n",
        "            action = agent.act(state)\n",
        " \n",
        "            # Apply an action to the environment, get the next state, the reward\n",
        "            # and if the games end\n",
        "            prev_state = state\n",
        "            state, reward, game_over = env.act(action)\n",
        " \n",
        "            # Update the counters\n",
        "            if reward > 0:\n",
        "                win = win + reward\n",
        "            if reward < 0:\n",
        "                lose = lose -reward\n",
        " \n",
        "            # Apply the reinforcement strategy\n",
        "            loss = agent.reinforce(prev_state, state,  action, reward, game_over)\n",
        "\n",
        "        # Save as a mp4\n",
        "        env.draw(prefix+str(e))\n",
        "\n",
        "        # Update stats\n",
        "        score = score + win-lose\n",
        "\n",
        "        print(\"Win/lose count {}/{}. Average score ({})\"\n",
        "              .format(win, lose, score/(1+e)))\n",
        "    print('Final score: '+str(score/epochs))"
      ],
      "execution_count": 0,
      "outputs": []
    },
    {
      "cell_type": "code",
      "metadata": {
        "id": "sfs3jsbQeToj",
        "colab_type": "code",
        "outputId": "bf52fe40-570a-406c-db67-15c08b9db5a6",
        "colab": {
          "base_uri": "https://localhost:8080/",
          "height": 650
        }
      },
      "source": [
        "# Initialize the game\n",
        "env = Environment(grid_size=size, max_time=T,temperature=temperature)\n",
        "\n",
        "# Initialize the agent!\n",
        "agent = RandomAgent()\n",
        "\n",
        "test(agent,env,epochs_test,prefix='random')\n",
        "HTML(display_videos('random0.mp4'))"
      ],
      "execution_count": 0,
      "outputs": [
        {
          "output_type": "stream",
          "text": [
            "Win/lose count 14.0/12.0. Average score (2.0)\n",
            "Win/lose count 12.5/16.0. Average score (-0.75)\n",
            "Win/lose count 11.0/16.0. Average score (-2.1666666666666665)\n",
            "Win/lose count 11.0/13.0. Average score (-2.125)\n",
            "Win/lose count 10.5/9.0. Average score (-1.4)\n",
            "Win/lose count 6.0/3.0. Average score (-0.6666666666666666)\n",
            "Win/lose count 4.0/5.0. Average score (-0.7142857142857143)\n",
            "Win/lose count 8.5/17.0. Average score (-1.6875)\n",
            "Win/lose count 13.0/16.0. Average score (-1.8333333333333333)\n",
            "Win/lose count 13.5/14.0. Average score (-1.7)\n",
            "Win/lose count 10.0/9.0. Average score (-1.4545454545454546)\n",
            "Win/lose count 8.0/10.0. Average score (-1.5)\n",
            "Win/lose count 10.0/12.0. Average score (-1.5384615384615385)\n",
            "Win/lose count 9.0/14.0. Average score (-1.7857142857142858)\n",
            "Win/lose count 9.5/16.0. Average score (-2.1)\n",
            "Win/lose count 15.0/13.0. Average score (-1.84375)\n",
            "Win/lose count 11.0/10.0. Average score (-1.6764705882352942)\n",
            "Win/lose count 9.0/23.0. Average score (-2.361111111111111)\n",
            "Win/lose count 16.0/16.0. Average score (-2.236842105263158)\n",
            "Win/lose count 8.0/8.0. Average score (-2.125)\n",
            "Final score: -2.125\n"
          ],
          "name": "stdout"
        },
        {
          "output_type": "execute_result",
          "data": {
            "text/html": [
              "<video alt=\"test\" controls>\n",
              "                <source src=\"data:video/mp4;base64,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\" type=\"video/mp4\" />\n",
              "             </video>"
            ],
            "text/plain": [
              "<IPython.core.display.HTML object>"
            ]
          },
          "metadata": {
            "tags": []
          },
          "execution_count": 10
        }
      ]
    },
    {
      "cell_type": "markdown",
      "metadata": {
        "id": "uu5zKfNbeTop",
        "colab_type": "text"
      },
      "source": [
        "***\n",
        "## DQN"
      ]
    },
    {
      "cell_type": "markdown",
      "metadata": {
        "id": "ATz_qSSWeToq",
        "colab_type": "text"
      },
      "source": [
        "Let us assume here that $T=\\infty$.\n",
        "\n",
        "***\n",
        "__Question 5__ Let $\\pi$ be a policy, show that:\n",
        "\n",
        "\\begin{equation*}\n",
        "Q^{\\pi}(s,a)=E_{(s',a')\\sim p(.|s,a)}[r(s,a)+\\gamma Q^{\\pi}(s',a')]\n",
        "\\end{equation*}\n",
        "\n",
        "Then, show that for the optimal policy $\\pi^*$ (we assume its existence), the following holds: \n",
        "\n",
        "\\begin{equation*}\n",
        "Q^{*}(s,a)=E_{s'\\sim \\pi^*(.|s,a)}[r(s,a)+\\gamma\\max_{a'}Q^{*}(s',a')].\n",
        "\\end{equation*}\n",
        "Finally, deduce that a plausible objective is:\n",
        "\n",
        "\\begin{equation*}\n",
        "\\mathcal{L}(\\theta)=E_{s' \\sim \\pi^*(.|s,a)}\\Vert r+\\gamma\\max\\max_{a'}Q(s',a',\\theta)-Q(s,a,\\theta)\\Vert^{2}.\n",
        "\\end{equation*}\n",
        "\n",
        "\n"
      ]
    },
    {
      "cell_type": "markdown",
      "metadata": {
        "id": "PI27enXCeTor",
        "colab_type": "text"
      },
      "source": [
        "Using the expression of the $Q$-function given in the introduction, we have:\n",
        "\n",
        "\\begin{equation*}\\begin{split}Q^\\pi(s,a)&=E_{p^{\\pi}}[\\sum_{t=0}^{+\\infty}\\gamma^{t}r(s_{t},a_{t})|s_{0}=s,a_{0}=a] \\\\\n",
        "&=r(s,a)+E_{p^{\\pi}}[\\sum_{t=1}^{+\\infty}\\gamma^{t}r(s_{t},a_{t})|s_{0}=s,a_{0}=a] \\\\\n",
        "&=r(s,a)+\\gamma \\sum_{s',a'} p(s',a'|s,a) E_{p^{\\pi}}[\\sum_{t=1}^{+\\infty}\\gamma^{t-1}r(s_{t},a_{t})|s_{1}=s',a_{1}=a'] \\> (Markov \\> Property) \\\\\n",
        "&=r(s,a)+\\gamma \\sum_{s',a'} p(s',a'|s,a) E_{p^{\\pi}}[\\sum_{t=0}^{+\\infty}\\gamma^{t}r(s_{t},a_{t})|s_{0}=s',a_{0}=a'] \\> (change \\> of \\> time) \\\\\n",
        "&=E_{(s',a')\\sim p(.|s,a)}[r(s,a)+\\gamma Q^{\\pi}(s',a')]\n",
        "\\end{split}\\end{equation*}\n",
        "\n",
        "\n",
        "\n",
        "\n",
        "Using the definition of the optimal Q function, we have:\n",
        "\n",
        "\\begin{equation*}\\begin{split}\n",
        "Q^*(s,a)&=\\max_{\\pi} \\> Q^\\pi(s,a) \\\\\n",
        "&=\\max_{\\pi} \\> r(s,a)+\\gamma \\sum_{s'} p(s'|s,a) \\sum_{a'} \\pi(a'|s')Q^{\\pi}(s',a') \\\\\n",
        "&=r(s,a)+\\gamma \\max_{\\pi} \\> \\sum_{s'} p(s'|s,a) \\sum_{a'} \\pi(a'|s')Q^{\\pi}(s',a')\n",
        "\\end{split}\\end{equation*}\n",
        "\n",
        "As $\\forall s', \\sum_{a'} \\pi(a'|s')=1$ and $\\forall (s',a'), \\pi(a'|s')\\geq0$ then we have that $\\forall s', \\sum_{a'} \\pi(a'|s')Q^{\\pi}(s',a')\\leq (\\sum_{a''} \\pi(a''|s'))\\max_{a'} Q^{\\pi}(s',a')=\\max_{a'} Q^{\\pi}(s',a')$. \n",
        "\n",
        "Moreover, each policy $\\pi=(a',\\pi')$ so we have $$\\max_{(a',\\pi')} \\> \\sum_{s'} p(s'|s,a) \\sum_{a'} \\pi(a'|s')Q^{\\pi}(s',a')\\leq \\sum_{s'} p(s'|s,a) \\max_{a'} (\\max_{\\pi'} Q^{\\pi'}(s',a'))=\\sum_{s'} p(s'|s,a) \\max_{a'}Q^*(s',a')$$\n",
        "\n",
        "Lets take $\\hat{\\pi}$ such that $\\forall s', \\hat{\\pi}(s')\\in argmax_{a} Q^*(s,a)$: \n",
        "$$\\sum_{s'} p(s'|s,a) \\max_{a'}Q^*(s',a')=\\sum_{s'} p(s'|s,a)Q^{\\hat{\\pi}}(s',\\hat{\\pi}(s'))\\leq \\max_{(a',\\pi')} \\> \\sum_{s'} p(s'|s,a) \\sum_{a'} \\pi(a'|s')Q^{\\pi}(s',a')$$\n",
        "\n",
        "Therefore, \n",
        "\\begin{equation*}\\begin{split}\n",
        "Q^*(s,a)&=\\max_{\\pi} \\> r(s,a)+\\gamma \\sum_{s'} p(s'|s,a) \\sum_{a'} \\pi(a'|s')Q^{\\pi}(s',a') \\\\\n",
        "&=r(s,a)+\\gamma\\sum_{s'} p(s'|s,a) \\max_{a'} Q^*(s',a') \\\\\n",
        "&=E_{s'\\sim \\pi^*(.|s,a)}[r(s,a)+\\gamma\\max_{a'}Q^{*}(s',a')]\n",
        "\\end{split}\\end{equation*}\n",
        "\n",
        "We can easily see that we could use as objective function:\n",
        "\n",
        "\\begin{equation*}\n",
        "\\mathcal{L}(\\theta)=E_{s' \\sim \\pi^*(.|s,a)}\\Vert r+\\gamma\\max_{a'}Q(s',a',\\theta)-Q(s,a,\\theta)\\Vert^{2}.\n",
        "\\end{equation*}\n",
        "\n",
        "Indeed, the minimum of this function is obtained for $\\mathcal{L}(\\theta^*)=0$ which implies that $Q(s,a,\\theta)=E_{s'\\sim \\pi^*(.|s,a)}[r(s,a)+\\gamma\\max_{a'}Q^{*}(s',a')]=Q^*(s,a)$."
      ]
    },
    {
      "cell_type": "markdown",
      "metadata": {
        "id": "cNT_qPvoeTos",
        "colab_type": "text"
      },
      "source": [
        "***\n",
        "The DQN-learning algorithm relies on these derivations to train the parameters $\\theta$ of a Deep Neural Network:\n",
        "\n",
        "1. At the state $s_t$, select the action $a_t$ with best reward using $Q_t$ and store the results;\n",
        "\n",
        "2. Obtain the new state $s_{t+1}$ from the environment $p$;\n",
        "\n",
        "3. Store $(s_t,a_t,s_{t+1})$;\n",
        "\n",
        "4. Obtain $Q_{t+1}$ by minimizing  $\\mathcal{L}$ from a recovered batch from the previously stored results.\n",
        "\n",
        "***\n",
        "__Question 6__ Implement the class ```Memory``` that stores moves (in a replay buffer) via ```remember``` and provides a ```random_access``` to these. Specify a maximum memory size to avoid side effects. You can for example use a ```list()``` and set by default ```max_memory=100```."
      ]
    },
    {
      "cell_type": "code",
      "metadata": {
        "id": "8YNw4RQXeTot",
        "colab_type": "code",
        "colab": {}
      },
      "source": [
        "class Memory(object):\n",
        "    def __init__(self, max_memory=100):\n",
        "        self.max_memory = max_memory\n",
        "        self.memory = list()\n",
        "\n",
        "    def remember(self, m):\n",
        "        if len(self.memory)<self.max_memory:\n",
        "          self.memory.append(m)\n",
        "        else:\n",
        "          self.memory=self.memory[:-1]+[m]\n",
        "\n",
        "    def random_access(self):\n",
        "        n=np.random.randint(len(self.memory))\n",
        "        return self.memory[n]"
      ],
      "execution_count": 0,
      "outputs": []
    },
    {
      "cell_type": "markdown",
      "metadata": {
        "id": "7ZJR_LczeToz",
        "colab_type": "text"
      },
      "source": [
        "***\n",
        "The pipeline we will use for training is given below:"
      ]
    },
    {
      "cell_type": "code",
      "metadata": {
        "id": "uDAtbGRseTo0",
        "colab_type": "code",
        "colab": {}
      },
      "source": [
        "def train(agent,env,epoch,prefix=''):\n",
        "    # Number of won games\n",
        "    score = 0\n",
        "    loss = 0\n",
        "\n",
        "    for e in range(epoch):\n",
        "        # At each epoch, we restart to a fresh game and get the initial state\n",
        "        state = env.reset()\n",
        "        # This assumes that the games will terminate\n",
        "        game_over = False\n",
        "\n",
        "        win = 0\n",
        "        lose = 0\n",
        "\n",
        "        while not game_over:\n",
        "            # The agent performs an action\n",
        "            action = agent.act(state)\n",
        "\n",
        "            # Apply an action to the environment, get the next state, the reward\n",
        "            # and if the games end\n",
        "            prev_state = state\n",
        "            state, reward, game_over = env.act(action)\n",
        "\n",
        "            # Update the counters\n",
        "            if reward > 0:\n",
        "                win = win + reward\n",
        "            if reward < 0:\n",
        "                lose = lose -reward\n",
        "\n",
        "            # Apply the reinforcement strategy\n",
        "            loss = agent.reinforce(prev_state, state,  action, reward, game_over)\n",
        "\n",
        "        # Save as a mp4\n",
        "        if e % 10 == 0:\n",
        "            env.draw(prefix+str(e))\n",
        "\n",
        "        # Update stats\n",
        "        score += win-lose\n",
        "\n",
        "        print(\"Epoch {:03d}/{:03d} | Loss {:.4f} | Win/lose count {}/{} ({})\"\n",
        "              .format(e, epoch, loss, win, lose, win-lose))\n",
        "        agent.save(name_weights=prefix+'model.h5',name_model=prefix+'model.json')"
      ],
      "execution_count": 0,
      "outputs": []
    },
    {
      "cell_type": "markdown",
      "metadata": {
        "id": "7jUHFFkAeTpB",
        "colab_type": "text"
      },
      "source": [
        "***\n",
        "__Question 7__ Implement the DQN training algorithm using a cascade of fully connected layers. You can use different learning rate, batch size or memory size parameters. In particular, the loss might oscillate while the player will start to win the games. You have to find a good criterium."
      ]
    },
    {
      "cell_type": "code",
      "metadata": {
        "id": "gaCfv9PZeTpE",
        "colab_type": "code",
        "colab": {}
      },
      "source": [
        "class DQN(Agent):\n",
        "    def __init__(self, grid_size,  epsilon = 0.1, memory_size=100, batch_size = 16,n_state=2):\n",
        "        super(DQN, self).__init__(epsilon = epsilon)\n",
        "\n",
        "        # Discount for Q learning\n",
        "        self.discount = 0.99\n",
        "        self.grid_size = grid_size\n",
        "        \n",
        "        # number of state\n",
        "        self.n_state = n_state\n",
        "\n",
        "        # Memory\n",
        "        self.memory = Memory(memory_size)\n",
        "        \n",
        "        # Batch size when learning\n",
        "        self.batch_size = batch_size\n",
        "\n",
        "        #Target network updates\n",
        "        self.count=0\n",
        "\n",
        "    def learned_act(self, s):\n",
        "        return np.argmax(self.model.predict(np.array([s]))[0])\n",
        "\n",
        "    def reinforce(self, s_, n_s_, a_, r_, game_over_):\n",
        "        # Two steps: first memorize the states, second learn from the pool\n",
        "\n",
        "        self.memory.remember([s_, n_s_, a_, r_, game_over_])\n",
        "        \n",
        "        input_states = np.zeros((self.batch_size, 5,5,self.n_state))\n",
        "        target_q = np.zeros((self.batch_size, 4))\n",
        "\n",
        "        #Target Network to avoid oscillations of the loss when we begin to win\n",
        "        #if self.count%10==0:\n",
        "        #  self.target_model.set_weights(self.model.get_weights())\n",
        "\n",
        "        for i in range(self.batch_size):\n",
        "            ######## FILL IN\n",
        "            s_, n_s_, a_, r_, game_over_=self.memory.random_access()\n",
        "            input_states[i]=s_\n",
        "            target_q[i]=self.model.predict(np.array([s_]))\n",
        "            if game_over_:\n",
        "              target_q[i][a_]=r_\n",
        "            else:\n",
        "              target_q[i][a_]=r_+self.discount*np.max(self.model.predict(np.array([n_s_])))\n",
        "        self.count+=1\n",
        "        # HINT: Clip the target to avoid exploiding gradients.. -- clipping is a bit tighter\n",
        "        target_q = np.clip(target_q, -2.5, 1)\n",
        "\n",
        "        l = self.model.train_on_batch(input_states, target_q)\n",
        "\n",
        "        return l\n",
        "\n",
        "    def save(self,name_weights='model.h5',name_model='model.json'):\n",
        "        self.model.save_weights(name_weights, overwrite=True)\n",
        "        with open(name_model, \"w\") as outfile:\n",
        "            json.dump(self.model.to_json(), outfile)\n",
        "            \n",
        "    def load(self,name_weights='model.h5',name_model='model.json'):\n",
        "        with open(name_model, \"r\") as jfile:\n",
        "            model = model_from_json(json.load(jfile))\n",
        "        model.load_weights(name_weights)\n",
        "        model.compile(\"sgd\", \"mse\")\n",
        "        self.model = model\n",
        "\n",
        "            \n",
        "class DQN_FC(DQN):\n",
        "    def __init__(self, *args, lr=0.1,**kwargs):\n",
        "        super(DQN_FC, self).__init__( *args,**kwargs)\n",
        "        \n",
        "        # NN Model\n",
        "        \n",
        "        model = Sequential()\n",
        "        model.add(Flatten(input_shape=(5,5,self.n_state)))\n",
        "        model.add(Dense(16))\n",
        "        model.add(Activation(\"relu\"))\n",
        "        model.add(Dense(16))\n",
        "        model.add(Activation(\"relu\"))\n",
        "        model.add(Dense(4))\n",
        "        \n",
        "\n",
        "        model.compile(keras.optimizers.adam(lr=lr), \"mse\")\n",
        "        self.model = model\n",
        "\n",
        "        #Target Network to avoid oscillations of the loss when we begin to win\n",
        "        #self.target_model= keras.models.clone_model(self.model)\n",
        "        #self.target_model.build((None, (5,5,self.n_state)))"
      ],
      "execution_count": 0,
      "outputs": []
    },
    {
      "cell_type": "code",
      "metadata": {
        "id": "_Z-ue_HCeTpM",
        "colab_type": "code",
        "outputId": "5404b051-c829-4023-fac3-03d6f002b75a",
        "colab": {
          "base_uri": "https://localhost:8080/",
          "height": 1000
        }
      },
      "source": [
        "env = Environment(grid_size=size, max_time=T, temperature=0.3)\n",
        "agent = DQN_FC(size, lr=.0001, epsilon = 0.1, memory_size=2000, batch_size = 32)\n",
        "train(agent, env, epochs_train, prefix='fc_train')\n",
        "HTML(display_videos('fc_train10.mp4'))"
      ],
      "execution_count": 0,
      "outputs": [
        {
          "output_type": "stream",
          "text": [
            "Epoch 000/200 | Loss 0.0081 | Win/lose count 5.0/3.0 (2.0)\n",
            "Epoch 001/200 | Loss 0.0080 | Win/lose count 3.5/5.0 (-1.5)\n",
            "Epoch 002/200 | Loss 0.0201 | Win/lose count 2.0/1.0 (1.0)\n",
            "Epoch 003/200 | Loss 0.0056 | Win/lose count 2.5/4.0 (-1.5)\n",
            "Epoch 004/200 | Loss 0.0044 | Win/lose count 4.0/3.0 (1.0)\n",
            "Epoch 005/200 | Loss 0.0150 | Win/lose count 6.5/7.0 (-0.5)\n",
            "Epoch 006/200 | Loss 0.0146 | Win/lose count 6.5/5.0 (1.5)\n",
            "Epoch 007/200 | Loss 0.0101 | Win/lose count 7.0/4.0 (3.0)\n",
            "Epoch 008/200 | Loss 0.0120 | Win/lose count 5.0/8.0 (-3.0)\n",
            "Epoch 009/200 | Loss 0.0060 | Win/lose count 4.0/5.0 (-1.0)\n",
            "Epoch 010/200 | Loss 0.0100 | Win/lose count 6.0/1.0 (5.0)\n",
            "Epoch 011/200 | Loss 0.0097 | Win/lose count 6.5/8.0 (-1.5)\n",
            "Epoch 012/200 | Loss 0.0102 | Win/lose count 3.0/2.0 (1.0)\n",
            "Epoch 013/200 | Loss 0.0125 | Win/lose count 4.5/4.0 (0.5)\n",
            "Epoch 014/200 | Loss 0.0049 | Win/lose count 1.5/0 (1.5)\n",
            "Epoch 015/200 | Loss 0.0165 | Win/lose count 2.5/3.0 (-0.5)\n",
            "Epoch 016/200 | Loss 0.0025 | Win/lose count 6.0/2.0 (4.0)\n",
            "Epoch 017/200 | Loss 0.0088 | Win/lose count 4.0/2.0 (2.0)\n",
            "Epoch 018/200 | Loss 0.0018 | Win/lose count 2.0/3.0 (-1.0)\n",
            "Epoch 019/200 | Loss 0.0058 | Win/lose count 6.0/6.0 (0.0)\n",
            "Epoch 020/200 | Loss 0.0037 | Win/lose count 2.5/0 (2.5)\n",
            "Epoch 021/200 | Loss 0.0079 | Win/lose count 2.0/4.0 (-2.0)\n",
            "Epoch 022/200 | Loss 0.0038 | Win/lose count 4.5/3.0 (1.5)\n",
            "Epoch 023/200 | Loss 0.0040 | Win/lose count 3.5/0 (3.5)\n",
            "Epoch 024/200 | Loss 0.0131 | Win/lose count 8.0/3.0 (5.0)\n",
            "Epoch 025/200 | Loss 0.0006 | Win/lose count 1.0/2.0 (-1.0)\n",
            "Epoch 026/200 | Loss 0.0021 | Win/lose count 4.0/3.0 (1.0)\n",
            "Epoch 027/200 | Loss 0.0023 | Win/lose count 3.0/2.0 (1.0)\n",
            "Epoch 028/200 | Loss 0.0009 | Win/lose count 5.5/3.0 (2.5)\n",
            "Epoch 029/200 | Loss 0.0073 | Win/lose count 8.5/5.0 (3.5)\n",
            "Epoch 030/200 | Loss 0.0099 | Win/lose count 2.0/2.0 (0.0)\n",
            "Epoch 031/200 | Loss 0.0043 | Win/lose count 4.5/3.0 (1.5)\n",
            "Epoch 032/200 | Loss 0.0053 | Win/lose count 1.5/3.0 (-1.5)\n",
            "Epoch 033/200 | Loss 0.0029 | Win/lose count 3.5/3.0 (0.5)\n",
            "Epoch 034/200 | Loss 0.0017 | Win/lose count 3.5/5.0 (-1.5)\n",
            "Epoch 035/200 | Loss 0.0026 | Win/lose count 4.5/3.0 (1.5)\n",
            "Epoch 036/200 | Loss 0.0020 | Win/lose count 3.0/4.0 (-1.0)\n",
            "Epoch 037/200 | Loss 0.0033 | Win/lose count 3.0/1.0 (2.0)\n",
            "Epoch 038/200 | Loss 0.0059 | Win/lose count 5.0/0 (5.0)\n",
            "Epoch 039/200 | Loss 0.0114 | Win/lose count 4.5/4.0 (0.5)\n",
            "Epoch 040/200 | Loss 0.0010 | Win/lose count 4.0/2.0 (2.0)\n",
            "Epoch 041/200 | Loss 0.0057 | Win/lose count 1.5/4.0 (-2.5)\n",
            "Epoch 042/200 | Loss 0.0025 | Win/lose count 3.5/4.0 (-0.5)\n",
            "Epoch 043/200 | Loss 0.0027 | Win/lose count 3.0/3.0 (0.0)\n",
            "Epoch 044/200 | Loss 0.0094 | Win/lose count 4.0/5.0 (-1.0)\n",
            "Epoch 045/200 | Loss 0.0009 | Win/lose count 1.0/3.0 (-2.0)\n",
            "Epoch 046/200 | Loss 0.0061 | Win/lose count 2.0/2.0 (0.0)\n",
            "Epoch 047/200 | Loss 0.0082 | Win/lose count 6.0/5.0 (1.0)\n",
            "Epoch 048/200 | Loss 0.0009 | Win/lose count 4.0/2.0 (2.0)\n",
            "Epoch 049/200 | Loss 0.0023 | Win/lose count 3.5/5.0 (-1.5)\n",
            "Epoch 050/200 | Loss 0.0121 | Win/lose count 9.5/3.0 (6.5)\n",
            "Epoch 051/200 | Loss 0.0091 | Win/lose count 2.5/1.0 (1.5)\n",
            "Epoch 052/200 | Loss 0.0021 | Win/lose count 3.5/5.0 (-1.5)\n",
            "Epoch 053/200 | Loss 0.0016 | Win/lose count 5.5/4.0 (1.5)\n",
            "Epoch 054/200 | Loss 0.0014 | Win/lose count 3.0/1.0 (2.0)\n",
            "Epoch 055/200 | Loss 0.0019 | Win/lose count 5.0/6.0 (-1.0)\n",
            "Epoch 056/200 | Loss 0.0019 | Win/lose count 9.0/4.0 (5.0)\n",
            "Epoch 057/200 | Loss 0.0011 | Win/lose count 3.0/1.0 (2.0)\n",
            "Epoch 058/200 | Loss 0.0032 | Win/lose count 1.0/3.0 (-2.0)\n",
            "Epoch 059/200 | Loss 0.0028 | Win/lose count 1.5/3.0 (-1.5)\n",
            "Epoch 060/200 | Loss 0.0005 | Win/lose count 3.0/1.0 (2.0)\n",
            "Epoch 061/200 | Loss 0.0069 | Win/lose count 4.5/5.0 (-0.5)\n",
            "Epoch 062/200 | Loss 0.0015 | Win/lose count 2.5/0 (2.5)\n",
            "Epoch 063/200 | Loss 0.0018 | Win/lose count 4.5/6.0 (-1.5)\n",
            "Epoch 064/200 | Loss 0.0013 | Win/lose count 1.5/2.0 (-0.5)\n",
            "Epoch 065/200 | Loss 0.0010 | Win/lose count 5.0/2.0 (3.0)\n",
            "Epoch 066/200 | Loss 0.0037 | Win/lose count 0.5/4.0 (-3.5)\n",
            "Epoch 067/200 | Loss 0.0011 | Win/lose count 2.0/3.0 (-1.0)\n",
            "Epoch 068/200 | Loss 0.0029 | Win/lose count 2.0/2.0 (0.0)\n",
            "Epoch 069/200 | Loss 0.0002 | Win/lose count 4.5/2.0 (2.5)\n",
            "Epoch 070/200 | Loss 0.0010 | Win/lose count 1.0/0 (1.0)\n",
            "Epoch 071/200 | Loss 0.0013 | Win/lose count 6.0/2.0 (4.0)\n",
            "Epoch 072/200 | Loss 0.0019 | Win/lose count 7.0/1.0 (6.0)\n",
            "Epoch 073/200 | Loss 0.0058 | Win/lose count 6.0/3.0 (3.0)\n",
            "Epoch 074/200 | Loss 0.0014 | Win/lose count 5.5/5.0 (0.5)\n",
            "Epoch 075/200 | Loss 0.0015 | Win/lose count 2.5/1.0 (1.5)\n",
            "Epoch 076/200 | Loss 0.0010 | Win/lose count 3.0/0 (3.0)\n",
            "Epoch 077/200 | Loss 0.0003 | Win/lose count 4.5/2.0 (2.5)\n",
            "Epoch 078/200 | Loss 0.0012 | Win/lose count 7.0/4.0 (3.0)\n",
            "Epoch 079/200 | Loss 0.0019 | Win/lose count 9.5/2.0 (7.5)\n",
            "Epoch 080/200 | Loss 0.0075 | Win/lose count 5.0/3.0 (2.0)\n",
            "Epoch 081/200 | Loss 0.0060 | Win/lose count 4.0/2.0 (2.0)\n",
            "Epoch 082/200 | Loss 0.0004 | Win/lose count 5.5/0 (5.5)\n",
            "Epoch 083/200 | Loss 0.0006 | Win/lose count 3.0/2.0 (1.0)\n",
            "Epoch 084/200 | Loss 0.0056 | Win/lose count 1.5/1.0 (0.5)\n",
            "Epoch 085/200 | Loss 0.0008 | Win/lose count 1.5/1.0 (0.5)\n",
            "Epoch 086/200 | Loss 0.0011 | Win/lose count 3.5/3.0 (0.5)\n",
            "Epoch 087/200 | Loss 0.0004 | Win/lose count 7.5/5.0 (2.5)\n",
            "Epoch 088/200 | Loss 0.0016 | Win/lose count 3.0/1.0 (2.0)\n",
            "Epoch 089/200 | Loss 0.0006 | Win/lose count 3.0/1.0 (2.0)\n",
            "Epoch 090/200 | Loss 0.0009 | Win/lose count 5.5/4.0 (1.5)\n",
            "Epoch 091/200 | Loss 0.0009 | Win/lose count 4.0/3.0 (1.0)\n",
            "Epoch 092/200 | Loss 0.0008 | Win/lose count 5.5/1.0 (4.5)\n",
            "Epoch 093/200 | Loss 0.0005 | Win/lose count 5.0/2.0 (3.0)\n",
            "Epoch 094/200 | Loss 0.0045 | Win/lose count 2.5/2.0 (0.5)\n",
            "Epoch 095/200 | Loss 0.0003 | Win/lose count 7.5/4.0 (3.5)\n",
            "Epoch 096/200 | Loss 0.0007 | Win/lose count 5.5/6.0 (-0.5)\n",
            "Epoch 097/200 | Loss 0.0018 | Win/lose count 4.5/4.0 (0.5)\n",
            "Epoch 098/200 | Loss 0.0016 | Win/lose count 11.5/4.0 (7.5)\n",
            "Epoch 099/200 | Loss 0.0017 | Win/lose count 6.0/4.0 (2.0)\n",
            "Epoch 100/200 | Loss 0.0010 | Win/lose count 6.5/0 (6.5)\n",
            "Epoch 101/200 | Loss 0.0013 | Win/lose count 1.5/0 (1.5)\n",
            "Epoch 102/200 | Loss 0.0012 | Win/lose count 6.5/3.0 (3.5)\n",
            "Epoch 103/200 | Loss 0.0073 | Win/lose count 3.5/3.0 (0.5)\n",
            "Epoch 104/200 | Loss 0.0075 | Win/lose count 5.5/3.0 (2.5)\n",
            "Epoch 105/200 | Loss 0.0005 | Win/lose count 6.0/2.0 (4.0)\n",
            "Epoch 106/200 | Loss 0.0008 | Win/lose count 2.0/2.0 (0.0)\n",
            "Epoch 107/200 | Loss 0.0003 | Win/lose count 5.5/4.0 (1.5)\n",
            "Epoch 108/200 | Loss 0.0003 | Win/lose count 5.0/0 (5.0)\n",
            "Epoch 109/200 | Loss 0.0008 | Win/lose count 5.5/2.0 (3.5)\n",
            "Epoch 110/200 | Loss 0.0004 | Win/lose count 2.0/3.0 (-1.0)\n",
            "Epoch 111/200 | Loss 0.0009 | Win/lose count 5.0/6.0 (-1.0)\n",
            "Epoch 112/200 | Loss 0.0011 | Win/lose count 6.0/4.0 (2.0)\n",
            "Epoch 113/200 | Loss 0.0010 | Win/lose count 7.0/3.0 (4.0)\n",
            "Epoch 114/200 | Loss 0.0005 | Win/lose count 3.5/1.0 (2.5)\n",
            "Epoch 115/200 | Loss 0.0005 | Win/lose count 5.5/2.0 (3.5)\n",
            "Epoch 116/200 | Loss 0.0009 | Win/lose count 6.0/2.0 (4.0)\n",
            "Epoch 117/200 | Loss 0.0006 | Win/lose count 7.0/1.0 (6.0)\n",
            "Epoch 118/200 | Loss 0.0004 | Win/lose count 5.5/2.0 (3.5)\n",
            "Epoch 119/200 | Loss 0.0077 | Win/lose count 4.5/4.0 (0.5)\n",
            "Epoch 120/200 | Loss 0.0003 | Win/lose count 3.0/2.0 (1.0)\n",
            "Epoch 121/200 | Loss 0.0003 | Win/lose count 5.5/3.0 (2.5)\n",
            "Epoch 122/200 | Loss 0.0003 | Win/lose count 4.5/3.0 (1.5)\n",
            "Epoch 123/200 | Loss 0.0006 | Win/lose count 1.5/0 (1.5)\n",
            "Epoch 124/200 | Loss 0.0061 | Win/lose count 7.0/3.0 (4.0)\n",
            "Epoch 125/200 | Loss 0.0003 | Win/lose count 1.0/0 (1.0)\n",
            "Epoch 126/200 | Loss 0.0018 | Win/lose count 7.0/4.0 (3.0)\n",
            "Epoch 127/200 | Loss 0.0003 | Win/lose count 4.5/1.0 (3.5)\n",
            "Epoch 128/200 | Loss 0.0005 | Win/lose count 1.5/1.0 (0.5)\n",
            "Epoch 129/200 | Loss 0.0004 | Win/lose count 2.0/2.0 (0.0)\n",
            "Epoch 130/200 | Loss 0.0007 | Win/lose count 3.0/5.0 (-2.0)\n",
            "Epoch 131/200 | Loss 0.0011 | Win/lose count 6.5/4.0 (2.5)\n",
            "Epoch 132/200 | Loss 0.0009 | Win/lose count 6.5/1.0 (5.5)\n",
            "Epoch 133/200 | Loss 0.0005 | Win/lose count 4.0/2.0 (2.0)\n",
            "Epoch 134/200 | Loss 0.0002 | Win/lose count 7.5/3.0 (4.5)\n",
            "Epoch 135/200 | Loss 0.0011 | Win/lose count 6.5/1.0 (5.5)\n",
            "Epoch 136/200 | Loss 0.0005 | Win/lose count 6.5/4.0 (2.5)\n",
            "Epoch 137/200 | Loss 0.0002 | Win/lose count 3.0/0 (3.0)\n",
            "Epoch 138/200 | Loss 0.0005 | Win/lose count 7.0/3.0 (4.0)\n",
            "Epoch 139/200 | Loss 0.0006 | Win/lose count 7.5/2.0 (5.5)\n",
            "Epoch 140/200 | Loss 0.0008 | Win/lose count 1.5/0 (1.5)\n",
            "Epoch 141/200 | Loss 0.0063 | Win/lose count 2.0/2.0 (0.0)\n",
            "Epoch 142/200 | Loss 0.0004 | Win/lose count 5.5/1.0 (4.5)\n",
            "Epoch 143/200 | Loss 0.0004 | Win/lose count 5.0/4.0 (1.0)\n",
            "Epoch 144/200 | Loss 0.0015 | Win/lose count 3.0/0 (3.0)\n",
            "Epoch 145/200 | Loss 0.0002 | Win/lose count 4.0/0 (4.0)\n",
            "Epoch 146/200 | Loss 0.0008 | Win/lose count 3.5/1.0 (2.5)\n",
            "Epoch 147/200 | Loss 0.0006 | Win/lose count 4.0/4.0 (0.0)\n",
            "Epoch 148/200 | Loss 0.0006 | Win/lose count 3.5/5.0 (-1.5)\n",
            "Epoch 149/200 | Loss 0.0145 | Win/lose count 3.5/8.0 (-4.5)\n",
            "Epoch 150/200 | Loss 0.0013 | Win/lose count 4.5/1.0 (3.5)\n",
            "Epoch 151/200 | Loss 0.0011 | Win/lose count 7.0/2.0 (5.0)\n",
            "Epoch 152/200 | Loss 0.0004 | Win/lose count 4.5/2.0 (2.5)\n",
            "Epoch 153/200 | Loss 0.0057 | Win/lose count 4.0/1.0 (3.0)\n",
            "Epoch 154/200 | Loss 0.0007 | Win/lose count 5.0/2.0 (3.0)\n",
            "Epoch 155/200 | Loss 0.0007 | Win/lose count 5.0/0 (5.0)\n",
            "Epoch 156/200 | Loss 0.0006 | Win/lose count 8.0/5.0 (3.0)\n",
            "Epoch 157/200 | Loss 0.0005 | Win/lose count 5.5/3.0 (2.5)\n",
            "Epoch 158/200 | Loss 0.0009 | Win/lose count 6.0/4.0 (2.0)\n",
            "Epoch 159/200 | Loss 0.0009 | Win/lose count 3.5/1.0 (2.5)\n",
            "Epoch 160/200 | Loss 0.0006 | Win/lose count 2.5/3.0 (-0.5)\n",
            "Epoch 161/200 | Loss 0.0006 | Win/lose count 3.0/2.0 (1.0)\n",
            "Epoch 162/200 | Loss 0.0007 | Win/lose count 5.5/5.0 (0.5)\n",
            "Epoch 163/200 | Loss 0.0019 | Win/lose count 5.5/0 (5.5)\n",
            "Epoch 164/200 | Loss 0.0003 | Win/lose count 2.5/5.0 (-2.5)\n",
            "Epoch 165/200 | Loss 0.0089 | Win/lose count 7.5/2.0 (5.5)\n",
            "Epoch 166/200 | Loss 0.0003 | Win/lose count 5.5/6.0 (-0.5)\n",
            "Epoch 167/200 | Loss 0.0007 | Win/lose count 3.5/2.0 (1.5)\n",
            "Epoch 168/200 | Loss 0.0007 | Win/lose count 5.5/2.0 (3.5)\n",
            "Epoch 169/200 | Loss 0.0003 | Win/lose count 10.0/9.0 (1.0)\n",
            "Epoch 170/200 | Loss 0.0003 | Win/lose count 7.5/4.0 (3.5)\n",
            "Epoch 171/200 | Loss 0.0002 | Win/lose count 3.0/3.0 (0.0)\n",
            "Epoch 172/200 | Loss 0.0002 | Win/lose count 3.5/1.0 (2.5)\n",
            "Epoch 173/200 | Loss 0.0066 | Win/lose count 3.5/0 (3.5)\n",
            "Epoch 174/200 | Loss 0.0004 | Win/lose count 3.0/3.0 (0.0)\n",
            "Epoch 175/200 | Loss 0.0004 | Win/lose count 3.5/1.0 (2.5)\n",
            "Epoch 176/200 | Loss 0.0002 | Win/lose count 2.0/2.0 (0.0)\n",
            "Epoch 177/200 | Loss 0.0003 | Win/lose count 6.0/7.0 (-1.0)\n",
            "Epoch 178/200 | Loss 0.0009 | Win/lose count 4.0/1.0 (3.0)\n",
            "Epoch 179/200 | Loss 0.0002 | Win/lose count 3.0/0 (3.0)\n",
            "Epoch 180/200 | Loss 0.0007 | Win/lose count 3.0/2.0 (1.0)\n",
            "Epoch 181/200 | Loss 0.0002 | Win/lose count 9.0/2.0 (7.0)\n",
            "Epoch 182/200 | Loss 0.0001 | Win/lose count 3.5/9.0 (-5.5)\n",
            "Epoch 183/200 | Loss 0.0006 | Win/lose count 1.0/2.0 (-1.0)\n",
            "Epoch 184/200 | Loss 0.0002 | Win/lose count 2.5/4.0 (-1.5)\n",
            "Epoch 185/200 | Loss 0.0030 | Win/lose count 4.0/1.0 (3.0)\n",
            "Epoch 186/200 | Loss 0.0015 | Win/lose count 5.5/0 (5.5)\n",
            "Epoch 187/200 | Loss 0.0002 | Win/lose count 1.5/1.0 (0.5)\n",
            "Epoch 188/200 | Loss 0.0005 | Win/lose count 5.5/1.0 (4.5)\n",
            "Epoch 189/200 | Loss 0.0026 | Win/lose count 5.5/5.0 (0.5)\n",
            "Epoch 190/200 | Loss 0.0067 | Win/lose count 8.5/3.0 (5.5)\n",
            "Epoch 191/200 | Loss 0.0003 | Win/lose count 4.0/2.0 (2.0)\n",
            "Epoch 192/200 | Loss 0.0005 | Win/lose count 5.5/3.0 (2.5)\n",
            "Epoch 193/200 | Loss 0.0073 | Win/lose count 3.0/4.0 (-1.0)\n",
            "Epoch 194/200 | Loss 0.0001 | Win/lose count 5.0/4.0 (1.0)\n",
            "Epoch 195/200 | Loss 0.0007 | Win/lose count 9.0/3.0 (6.0)\n",
            "Epoch 196/200 | Loss 0.0004 | Win/lose count 2.5/5.0 (-2.5)\n",
            "Epoch 197/200 | Loss 0.0006 | Win/lose count 3.5/3.0 (0.5)\n",
            "Epoch 198/200 | Loss 0.0002 | Win/lose count 4.0/3.0 (1.0)\n",
            "Epoch 199/200 | Loss 0.0004 | Win/lose count 2.5/0 (2.5)\n"
          ],
          "name": "stdout"
        },
        {
          "output_type": "execute_result",
          "data": {
            "text/html": [
              "<video alt=\"test\" controls>\n",
              "                <source src=\"data:video/mp4;base64,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\" type=\"video/mp4\" />\n",
              "             </video>"
            ],
            "text/plain": [
              "<IPython.core.display.HTML object>"
            ]
          },
          "metadata": {
            "tags": []
          },
          "execution_count": 32
        }
      ]
    },
    {
      "cell_type": "markdown",
      "metadata": {
        "id": "rKG-WsZCeTpP",
        "colab_type": "text"
      },
      "source": [
        "***\n",
        "***\n",
        "__Question 8__ Implement the DQN training algorithm using a CNN (for example, 2 convolutional layers and one final fully connected layer)."
      ]
    },
    {
      "cell_type": "code",
      "metadata": {
        "id": "oOrr2DyReTpQ",
        "colab_type": "code",
        "colab": {}
      },
      "source": [
        "class DQN_CNN(DQN):\n",
        "    def __init__(self, *args,lr=0.1,**kwargs):\n",
        "        super(DQN_CNN, self).__init__(*args,**kwargs)\n",
        "        \n",
        "        model = Sequential()\n",
        "        model.add(Conv2D(64, (3, 3), padding=\"same\", activation=\"relu\",input_shape=(5,5,self.n_state)))\n",
        "        model.add(Conv2D(64, (3, 3), padding=\"same\", activation=\"relu\"))\n",
        "        model.add(Conv2D(32, (3, 3), padding=\"same\", activation=\"relu\"))\n",
        "        model.add(Flatten())\n",
        "        model.add(Dense(4))\n",
        "        model.compile(keras.optimizers.adam(lr=lr), \"mse\")\n",
        "        self.model = model\n",
        "\n",
        "        #Target Network to avoid oscillations of the loss when we begin to win\n",
        "        #self.target_model= keras.models.clone_model(self.model)\n",
        "        #self.target_model.build((None, (5,5,self.n_state)))"
      ],
      "execution_count": 0,
      "outputs": []
    },
    {
      "cell_type": "code",
      "metadata": {
        "id": "K82_cK_teTpT",
        "colab_type": "code",
        "outputId": "554c8be6-72ba-4228-eca3-c1985f5c5bb3",
        "colab": {
          "base_uri": "https://localhost:8080/",
          "height": 1000
        }
      },
      "source": [
        "env = Environment(grid_size=size, max_time=T, temperature=0.3)\n",
        "agent = DQN_CNN(size, lr=.0001, epsilon = 0.1, memory_size=2000, batch_size = 32)\n",
        "train(agent,env,epochs_train,prefix='cnn_train')\n",
        "HTML(display_videos('cnn_train10.mp4'))"
      ],
      "execution_count": 0,
      "outputs": [
        {
          "output_type": "stream",
          "text": [
            "Epoch 000/200 | Loss 0.0005 | Win/lose count 4.5/4.0 (0.5)\n",
            "Epoch 001/200 | Loss 0.0041 | Win/lose count 4.0/6.0 (-2.0)\n",
            "Epoch 002/200 | Loss 0.0017 | Win/lose count 7.5/5.0 (2.5)\n",
            "Epoch 003/200 | Loss 0.0012 | Win/lose count 4.5/7.0 (-2.5)\n",
            "Epoch 004/200 | Loss 0.0003 | Win/lose count 5.0/4.0 (1.0)\n",
            "Epoch 005/200 | Loss 0.0005 | Win/lose count 8.5/2.0 (6.5)\n",
            "Epoch 006/200 | Loss 0.0005 | Win/lose count 8.5/1.0 (7.5)\n",
            "Epoch 007/200 | Loss 0.0049 | Win/lose count 7.5/1.0 (6.5)\n",
            "Epoch 008/200 | Loss 0.0002 | Win/lose count 4.5/3.0 (1.5)\n",
            "Epoch 009/200 | Loss 0.0058 | Win/lose count 3.0/2.0 (1.0)\n",
            "Epoch 010/200 | Loss 0.0014 | Win/lose count 6.5/3.0 (3.5)\n",
            "Epoch 011/200 | Loss 0.0002 | Win/lose count 3.5/2.0 (1.5)\n",
            "Epoch 012/200 | Loss 0.0071 | Win/lose count 1.0/2.0 (-1.0)\n",
            "Epoch 013/200 | Loss 0.0002 | Win/lose count 6.5/2.0 (4.5)\n",
            "Epoch 014/200 | Loss 0.0003 | Win/lose count 6.5/2.0 (4.5)\n",
            "Epoch 015/200 | Loss 0.0019 | Win/lose count 8.0/5.0 (3.0)\n",
            "Epoch 016/200 | Loss 0.0018 | Win/lose count 3.0/0 (3.0)\n",
            "Epoch 017/200 | Loss 0.0001 | Win/lose count 2.5/2.0 (0.5)\n",
            "Epoch 018/200 | Loss 0.0009 | Win/lose count 9.0/2.0 (7.0)\n",
            "Epoch 019/200 | Loss 0.0001 | Win/lose count 8.0/4.0 (4.0)\n",
            "Epoch 020/200 | Loss 0.0001 | Win/lose count 7.5/3.0 (4.5)\n",
            "Epoch 021/200 | Loss 0.0003 | Win/lose count 9.0/6.0 (3.0)\n",
            "Epoch 022/200 | Loss 0.0001 | Win/lose count 11.0/1.0 (10.0)\n",
            "Epoch 023/200 | Loss 0.0002 | Win/lose count 5.0/3.0 (2.0)\n",
            "Epoch 024/200 | Loss 0.0001 | Win/lose count 7.5/2.0 (5.5)\n",
            "Epoch 025/200 | Loss 0.0016 | Win/lose count 4.5/2.0 (2.5)\n",
            "Epoch 026/200 | Loss 0.0002 | Win/lose count 14.5/1.0 (13.5)\n",
            "Epoch 027/200 | Loss 0.0001 | Win/lose count 6.5/2.0 (4.5)\n",
            "Epoch 028/200 | Loss 0.0001 | Win/lose count 5.5/1.0 (4.5)\n",
            "Epoch 029/200 | Loss 0.0001 | Win/lose count 2.0/2.0 (0.0)\n",
            "Epoch 030/200 | Loss 0.0002 | Win/lose count 10.0/2.0 (8.0)\n",
            "Epoch 031/200 | Loss 0.0000 | Win/lose count 4.0/1.0 (3.0)\n",
            "Epoch 032/200 | Loss 0.0008 | Win/lose count 7.5/2.0 (5.5)\n",
            "Epoch 033/200 | Loss 0.0002 | Win/lose count 9.0/3.0 (6.0)\n",
            "Epoch 034/200 | Loss 0.0001 | Win/lose count 6.5/0 (6.5)\n",
            "Epoch 035/200 | Loss 0.0001 | Win/lose count 3.0/1.0 (2.0)\n",
            "Epoch 036/200 | Loss 0.0002 | Win/lose count 3.5/4.0 (-0.5)\n",
            "Epoch 037/200 | Loss 0.0001 | Win/lose count 4.5/6.0 (-1.5)\n",
            "Epoch 038/200 | Loss 0.0002 | Win/lose count 4.0/1.0 (3.0)\n",
            "Epoch 039/200 | Loss 0.0001 | Win/lose count 7.5/3.0 (4.5)\n",
            "Epoch 040/200 | Loss 0.0001 | Win/lose count 4.0/2.0 (2.0)\n",
            "Epoch 041/200 | Loss 0.0001 | Win/lose count 13.0/3.0 (10.0)\n",
            "Epoch 042/200 | Loss 0.0000 | Win/lose count 6.5/5.0 (1.5)\n",
            "Epoch 043/200 | Loss 0.0001 | Win/lose count 4.5/3.0 (1.5)\n",
            "Epoch 044/200 | Loss 0.0001 | Win/lose count 7.5/4.0 (3.5)\n",
            "Epoch 045/200 | Loss 0.0001 | Win/lose count 4.0/7.0 (-3.0)\n",
            "Epoch 046/200 | Loss 0.0026 | Win/lose count 5.5/2.0 (3.5)\n",
            "Epoch 047/200 | Loss 0.0002 | Win/lose count 9.0/4.0 (5.0)\n",
            "Epoch 048/200 | Loss 0.0003 | Win/lose count 7.5/0 (7.5)\n",
            "Epoch 049/200 | Loss 0.0001 | Win/lose count 2.0/0 (2.0)\n",
            "Epoch 050/200 | Loss 0.0001 | Win/lose count 3.0/3.0 (0.0)\n",
            "Epoch 051/200 | Loss 0.0050 | Win/lose count 8.0/1.0 (7.0)\n",
            "Epoch 052/200 | Loss 0.0006 | Win/lose count 10.0/6.0 (4.0)\n",
            "Epoch 053/200 | Loss 0.0002 | Win/lose count 2.5/1.0 (1.5)\n",
            "Epoch 054/200 | Loss 0.0002 | Win/lose count 12.5/2.0 (10.5)\n",
            "Epoch 055/200 | Loss 0.0001 | Win/lose count 9.0/6.0 (3.0)\n",
            "Epoch 056/200 | Loss 0.0001 | Win/lose count 8.0/4.0 (4.0)\n",
            "Epoch 057/200 | Loss 0.0005 | Win/lose count 1.5/1.0 (0.5)\n",
            "Epoch 058/200 | Loss 0.0001 | Win/lose count 9.5/2.0 (7.5)\n",
            "Epoch 059/200 | Loss 0.0001 | Win/lose count 4.0/3.0 (1.0)\n",
            "Epoch 060/200 | Loss 0.0002 | Win/lose count 3.0/1.0 (2.0)\n",
            "Epoch 061/200 | Loss 0.0002 | Win/lose count 5.0/4.0 (1.0)\n",
            "Epoch 062/200 | Loss 0.0005 | Win/lose count 12.5/6.0 (6.5)\n",
            "Epoch 063/200 | Loss 0.0001 | Win/lose count 13.0/7.0 (6.0)\n",
            "Epoch 064/200 | Loss 0.0001 | Win/lose count 4.5/4.0 (0.5)\n",
            "Epoch 065/200 | Loss 0.0003 | Win/lose count 9.0/3.0 (6.0)\n",
            "Epoch 066/200 | Loss 0.0001 | Win/lose count 2.0/1.0 (1.0)\n",
            "Epoch 067/200 | Loss 0.0059 | Win/lose count 5.0/4.0 (1.0)\n",
            "Epoch 068/200 | Loss 0.0001 | Win/lose count 4.0/3.0 (1.0)\n",
            "Epoch 069/200 | Loss 0.0006 | Win/lose count 4.5/3.0 (1.5)\n",
            "Epoch 070/200 | Loss 0.0000 | Win/lose count 8.5/2.0 (6.5)\n",
            "Epoch 071/200 | Loss 0.0001 | Win/lose count 10.0/4.0 (6.0)\n",
            "Epoch 072/200 | Loss 0.0001 | Win/lose count 6.5/5.0 (1.5)\n",
            "Epoch 073/200 | Loss 0.0001 | Win/lose count 6.5/0 (6.5)\n",
            "Epoch 074/200 | Loss 0.0002 | Win/lose count 7.0/5.0 (2.0)\n",
            "Epoch 075/200 | Loss 0.0001 | Win/lose count 7.0/5.0 (2.0)\n",
            "Epoch 076/200 | Loss 0.0001 | Win/lose count 7.0/3.0 (4.0)\n",
            "Epoch 077/200 | Loss 0.0001 | Win/lose count 8.5/3.0 (5.5)\n",
            "Epoch 078/200 | Loss 0.0025 | Win/lose count 4.0/1.0 (3.0)\n",
            "Epoch 079/200 | Loss 0.0001 | Win/lose count 8.5/3.0 (5.5)\n",
            "Epoch 080/200 | Loss 0.0001 | Win/lose count 10.0/3.0 (7.0)\n",
            "Epoch 081/200 | Loss 0.0001 | Win/lose count 10.0/0 (10.0)\n",
            "Epoch 082/200 | Loss 0.0001 | Win/lose count 7.5/1.0 (6.5)\n",
            "Epoch 083/200 | Loss 0.0003 | Win/lose count 5.0/3.0 (2.0)\n",
            "Epoch 084/200 | Loss 0.0001 | Win/lose count 6.5/5.0 (1.5)\n",
            "Epoch 085/200 | Loss 0.0000 | Win/lose count 4.0/1.0 (3.0)\n",
            "Epoch 086/200 | Loss 0.0016 | Win/lose count 11.0/6.0 (5.0)\n",
            "Epoch 087/200 | Loss 0.0001 | Win/lose count 13.0/5.0 (8.0)\n",
            "Epoch 088/200 | Loss 0.0001 | Win/lose count 2.5/1.0 (1.5)\n",
            "Epoch 089/200 | Loss 0.0000 | Win/lose count 4.5/0 (4.5)\n",
            "Epoch 090/200 | Loss 0.0000 | Win/lose count 13.0/1.0 (12.0)\n",
            "Epoch 091/200 | Loss 0.0001 | Win/lose count 8.5/3.0 (5.5)\n",
            "Epoch 092/200 | Loss 0.0001 | Win/lose count 14.0/3.0 (11.0)\n",
            "Epoch 093/200 | Loss 0.0001 | Win/lose count 7.5/2.0 (5.5)\n",
            "Epoch 094/200 | Loss 0.0004 | Win/lose count 10.5/8.0 (2.5)\n",
            "Epoch 095/200 | Loss 0.0002 | Win/lose count 12.0/3.0 (9.0)\n",
            "Epoch 096/200 | Loss 0.0002 | Win/lose count 13.0/3.0 (10.0)\n",
            "Epoch 097/200 | Loss 0.0003 | Win/lose count 5.5/1.0 (4.5)\n",
            "Epoch 098/200 | Loss 0.0000 | Win/lose count 4.0/2.0 (2.0)\n",
            "Epoch 099/200 | Loss 0.0000 | Win/lose count 6.5/5.0 (1.5)\n",
            "Epoch 100/200 | Loss 0.0012 | Win/lose count 1.5/3.0 (-1.5)\n",
            "Epoch 101/200 | Loss 0.0003 | Win/lose count 11.0/4.0 (7.0)\n",
            "Epoch 102/200 | Loss 0.0000 | Win/lose count 2.5/3.0 (-0.5)\n",
            "Epoch 103/200 | Loss 0.0000 | Win/lose count 10.5/1.0 (9.5)\n",
            "Epoch 104/200 | Loss 0.0001 | Win/lose count 1.5/2.0 (-0.5)\n",
            "Epoch 105/200 | Loss 0.0000 | Win/lose count 10.5/5.0 (5.5)\n",
            "Epoch 106/200 | Loss 0.0001 | Win/lose count 4.5/2.0 (2.5)\n",
            "Epoch 107/200 | Loss 0.0002 | Win/lose count 7.5/7.0 (0.5)\n",
            "Epoch 108/200 | Loss 0.0003 | Win/lose count 8.0/4.0 (4.0)\n",
            "Epoch 109/200 | Loss 0.0000 | Win/lose count 5.5/1.0 (4.5)\n",
            "Epoch 110/200 | Loss 0.0037 | Win/lose count 2.0/2.0 (0.0)\n",
            "Epoch 111/200 | Loss 0.0002 | Win/lose count 10.5/2.0 (8.5)\n",
            "Epoch 112/200 | Loss 0.0003 | Win/lose count 12.5/3.0 (9.5)\n",
            "Epoch 113/200 | Loss 0.0001 | Win/lose count 8.0/3.0 (5.0)\n",
            "Epoch 114/200 | Loss 0.0000 | Win/lose count 6.0/1.0 (5.0)\n",
            "Epoch 115/200 | Loss 0.0000 | Win/lose count 5.0/1.0 (4.0)\n",
            "Epoch 116/200 | Loss 0.0002 | Win/lose count 10.5/3.0 (7.5)\n",
            "Epoch 117/200 | Loss 0.0000 | Win/lose count 3.5/2.0 (1.5)\n",
            "Epoch 118/200 | Loss 0.0000 | Win/lose count 7.0/2.0 (5.0)\n",
            "Epoch 119/200 | Loss 0.0000 | Win/lose count 10.5/3.0 (7.5)\n",
            "Epoch 120/200 | Loss 0.0000 | Win/lose count 6.5/8.0 (-1.5)\n",
            "Epoch 121/200 | Loss 0.0045 | Win/lose count 2.5/2.0 (0.5)\n",
            "Epoch 122/200 | Loss 0.0002 | Win/lose count 8.5/4.0 (4.5)\n",
            "Epoch 123/200 | Loss 0.0001 | Win/lose count 7.5/4.0 (3.5)\n",
            "Epoch 124/200 | Loss 0.0000 | Win/lose count 1.5/1.0 (0.5)\n",
            "Epoch 125/200 | Loss 0.0002 | Win/lose count 4.5/4.0 (0.5)\n",
            "Epoch 126/200 | Loss 0.0051 | Win/lose count 8.0/6.0 (2.0)\n",
            "Epoch 127/200 | Loss 0.0000 | Win/lose count 4.5/1.0 (3.5)\n",
            "Epoch 128/200 | Loss 0.0014 | Win/lose count 9.0/4.0 (5.0)\n",
            "Epoch 129/200 | Loss 0.0001 | Win/lose count 12.5/7.0 (5.5)\n",
            "Epoch 130/200 | Loss 0.0000 | Win/lose count 5.0/3.0 (2.0)\n",
            "Epoch 131/200 | Loss 0.0002 | Win/lose count 11.0/3.0 (8.0)\n",
            "Epoch 132/200 | Loss 0.0000 | Win/lose count 6.0/6.0 (0.0)\n",
            "Epoch 133/200 | Loss 0.0001 | Win/lose count 1.5/0 (1.5)\n",
            "Epoch 134/200 | Loss 0.0000 | Win/lose count 10.0/0 (10.0)\n",
            "Epoch 135/200 | Loss 0.0001 | Win/lose count 6.0/1.0 (5.0)\n",
            "Epoch 136/200 | Loss 0.0001 | Win/lose count 1.5/3.0 (-1.5)\n",
            "Epoch 137/200 | Loss 0.0003 | Win/lose count 2.0/1.0 (1.0)\n",
            "Epoch 138/200 | Loss 0.0000 | Win/lose count 2.0/3.0 (-1.0)\n",
            "Epoch 139/200 | Loss 0.0000 | Win/lose count 10.0/3.0 (7.0)\n",
            "Epoch 140/200 | Loss 0.0001 | Win/lose count 3.0/6.0 (-3.0)\n",
            "Epoch 141/200 | Loss 0.0001 | Win/lose count 4.5/1.0 (3.5)\n",
            "Epoch 142/200 | Loss 0.0000 | Win/lose count 5.5/0 (5.5)\n",
            "Epoch 143/200 | Loss 0.0001 | Win/lose count 9.0/3.0 (6.0)\n",
            "Epoch 144/200 | Loss 0.0001 | Win/lose count 15.5/6.0 (9.5)\n",
            "Epoch 145/200 | Loss 0.0001 | Win/lose count 3.5/1.0 (2.5)\n",
            "Epoch 146/200 | Loss 0.0000 | Win/lose count 4.5/2.0 (2.5)\n",
            "Epoch 147/200 | Loss 0.0001 | Win/lose count 5.5/2.0 (3.5)\n",
            "Epoch 148/200 | Loss 0.0000 | Win/lose count 10.0/2.0 (8.0)\n",
            "Epoch 149/200 | Loss 0.0000 | Win/lose count 12.0/3.0 (9.0)\n",
            "Epoch 150/200 | Loss 0.0001 | Win/lose count 8.0/2.0 (6.0)\n",
            "Epoch 151/200 | Loss 0.0000 | Win/lose count 11.5/4.0 (7.5)\n",
            "Epoch 152/200 | Loss 0.0000 | Win/lose count 4.0/3.0 (1.0)\n",
            "Epoch 153/200 | Loss 0.0001 | Win/lose count 2.5/2.0 (0.5)\n",
            "Epoch 154/200 | Loss 0.0031 | Win/lose count 10.0/2.0 (8.0)\n",
            "Epoch 155/200 | Loss 0.0001 | Win/lose count 5.0/1.0 (4.0)\n",
            "Epoch 156/200 | Loss 0.0000 | Win/lose count 3.0/2.0 (1.0)\n",
            "Epoch 157/200 | Loss 0.0000 | Win/lose count 13.5/4.0 (9.5)\n",
            "Epoch 158/200 | Loss 0.0000 | Win/lose count 4.5/1.0 (3.5)\n",
            "Epoch 159/200 | Loss 0.0000 | Win/lose count 10.0/3.0 (7.0)\n",
            "Epoch 160/200 | Loss 0.0001 | Win/lose count 10.0/4.0 (6.0)\n",
            "Epoch 161/200 | Loss 0.0000 | Win/lose count 4.5/3.0 (1.5)\n",
            "Epoch 162/200 | Loss 0.0000 | Win/lose count 8.5/1.0 (7.5)\n",
            "Epoch 163/200 | Loss 0.0001 | Win/lose count 12.0/3.0 (9.0)\n",
            "Epoch 164/200 | Loss 0.0000 | Win/lose count 3.5/1.0 (2.5)\n",
            "Epoch 165/200 | Loss 0.0003 | Win/lose count 4.0/4.0 (0.0)\n",
            "Epoch 166/200 | Loss 0.0003 | Win/lose count 8.0/2.0 (6.0)\n",
            "Epoch 167/200 | Loss 0.0001 | Win/lose count 8.0/1.0 (7.0)\n",
            "Epoch 168/200 | Loss 0.0000 | Win/lose count 16.0/6.0 (10.0)\n",
            "Epoch 169/200 | Loss 0.0000 | Win/lose count 5.5/5.0 (0.5)\n",
            "Epoch 170/200 | Loss 0.0000 | Win/lose count 6.5/3.0 (3.5)\n",
            "Epoch 171/200 | Loss 0.0000 | Win/lose count 6.5/1.0 (5.5)\n",
            "Epoch 172/200 | Loss 0.0024 | Win/lose count 12.0/3.0 (9.0)\n",
            "Epoch 173/200 | Loss 0.0000 | Win/lose count 10.0/4.0 (6.0)\n",
            "Epoch 174/200 | Loss 0.0000 | Win/lose count 7.0/2.0 (5.0)\n",
            "Epoch 175/200 | Loss 0.0000 | Win/lose count 6.5/2.0 (4.5)\n",
            "Epoch 176/200 | Loss 0.0000 | Win/lose count 3.0/3.0 (0.0)\n",
            "Epoch 177/200 | Loss 0.0001 | Win/lose count 4.5/3.0 (1.5)\n",
            "Epoch 178/200 | Loss 0.0000 | Win/lose count 9.5/6.0 (3.5)\n",
            "Epoch 179/200 | Loss 0.0001 | Win/lose count 2.0/2.0 (0.0)\n",
            "Epoch 180/200 | Loss 0.0002 | Win/lose count 6.5/3.0 (3.5)\n",
            "Epoch 181/200 | Loss 0.0001 | Win/lose count 11.0/2.0 (9.0)\n",
            "Epoch 182/200 | Loss 0.0001 | Win/lose count 10.0/0 (10.0)\n",
            "Epoch 183/200 | Loss 0.0000 | Win/lose count 2.0/2.0 (0.0)\n",
            "Epoch 184/200 | Loss 0.0011 | Win/lose count 9.5/4.0 (5.5)\n",
            "Epoch 185/200 | Loss 0.0001 | Win/lose count 5.5/2.0 (3.5)\n",
            "Epoch 186/200 | Loss 0.0001 | Win/lose count 6.5/2.0 (4.5)\n",
            "Epoch 187/200 | Loss 0.0028 | Win/lose count 1.5/1.0 (0.5)\n",
            "Epoch 188/200 | Loss 0.0002 | Win/lose count 9.5/4.0 (5.5)\n",
            "Epoch 189/200 | Loss 0.0000 | Win/lose count 3.5/5.0 (-1.5)\n",
            "Epoch 190/200 | Loss 0.0000 | Win/lose count 9.5/3.0 (6.5)\n",
            "Epoch 191/200 | Loss 0.0001 | Win/lose count 5.0/2.0 (3.0)\n",
            "Epoch 192/200 | Loss 0.0000 | Win/lose count 8.0/1.0 (7.0)\n",
            "Epoch 193/200 | Loss 0.0000 | Win/lose count 7.5/1.0 (6.5)\n",
            "Epoch 194/200 | Loss 0.0000 | Win/lose count 7.0/3.0 (4.0)\n",
            "Epoch 195/200 | Loss 0.0002 | Win/lose count 7.5/5.0 (2.5)\n",
            "Epoch 196/200 | Loss 0.0000 | Win/lose count 9.5/5.0 (4.5)\n",
            "Epoch 197/200 | Loss 0.0013 | Win/lose count 6.5/4.0 (2.5)\n",
            "Epoch 198/200 | Loss 0.0000 | Win/lose count 7.5/2.0 (5.5)\n",
            "Epoch 199/200 | Loss 0.0000 | Win/lose count 5.0/3.0 (2.0)\n"
          ],
          "name": "stdout"
        },
        {
          "output_type": "execute_result",
          "data": {
            "text/html": [
              "<video alt=\"test\" controls>\n",
              "                <source src=\"data:video/mp4;base64,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\" type=\"video/mp4\" />\n",
              "             </video>"
            ],
            "text/plain": [
              "<IPython.core.display.HTML object>"
            ]
          },
          "metadata": {
            "tags": []
          },
          "execution_count": 36
        }
      ]
    },
    {
      "cell_type": "markdown",
      "metadata": {
        "id": "zXORNGtEeTpV",
        "colab_type": "text"
      },
      "source": [
        "***\n",
        "***\n",
        "__Question 9__ Test both algorithms and compare their performances. Which issue(s) do you observe? Observe also different behaviors by changing the temperature."
      ]
    },
    {
      "cell_type": "code",
      "metadata": {
        "id": "XBIQje56eTpX",
        "colab_type": "code",
        "outputId": "b83b5e56-ad95-422f-b4eb-28b4b88e6d06",
        "colab": {
          "base_uri": "https://localhost:8080/",
          "height": 765
        }
      },
      "source": [
        "env = Environment(grid_size=size, max_time=T,temperature=0.3)\n",
        "agent_cnn = DQN_CNN(size, lr=.01, epsilon = 0.1, memory_size=2000, batch_size = 32)\n",
        "agent_cnn.load(name_weights='cnn_trainmodel.h5',name_model='cnn_trainmodel.json')\n",
        "\n",
        "agent_fc = DQN_FC(size, lr=.01, epsilon = 0.1, memory_size=2000, batch_size = 32)\n",
        "agent_fc.load(name_weights='fc_trainmodel.h5',name_model='fc_trainmodel.json')\n",
        "print('Test of the CNN')\n",
        "test(agent_cnn,env,epochs_test,prefix='cnn_test')\n",
        "print('Test of the FC')\n",
        "test(agent_fc,env,epochs_test,prefix='fc_test')"
      ],
      "execution_count": 0,
      "outputs": [
        {
          "output_type": "stream",
          "text": [
            "Test of the CNN\n",
            "Win/lose count 9.5/1.0. Average score (8.5)\n",
            "Win/lose count 9.0/2.0. Average score (7.75)\n",
            "Win/lose count 9.0/7.0. Average score (5.833333333333333)\n",
            "Win/lose count 9.0/0. Average score (6.625)\n",
            "Win/lose count 13.5/2.0. Average score (7.6)\n",
            "Win/lose count 4.0/4.0. Average score (6.333333333333333)\n",
            "Win/lose count 6.0/6.0. Average score (5.428571428571429)\n",
            "Win/lose count 3.0/2.0. Average score (4.875)\n",
            "Win/lose count 5.5/3.0. Average score (4.611111111111111)\n",
            "Win/lose count 11.5/6.0. Average score (4.7)\n",
            "Win/lose count 5.5/2.0. Average score (4.590909090909091)\n",
            "Win/lose count 3.5/2.0. Average score (4.333333333333333)\n",
            "Win/lose count 10.5/3.0. Average score (4.576923076923077)\n",
            "Win/lose count 10.0/2.0. Average score (4.821428571428571)\n",
            "Win/lose count 19.0/2.0. Average score (5.633333333333334)\n",
            "Win/lose count 12.0/3.0. Average score (5.84375)\n",
            "Win/lose count 5.5/1.0. Average score (5.764705882352941)\n",
            "Win/lose count 8.5/2.0. Average score (5.805555555555555)\n",
            "Win/lose count 6.5/3.0. Average score (5.684210526315789)\n",
            "Win/lose count 6.5/4.0. Average score (5.525)\n",
            "Final score: 5.525\n",
            "Test of the FC\n",
            "Win/lose count 3.5/1.0. Average score (2.5)\n",
            "Win/lose count 6.0/3.0. Average score (2.75)\n",
            "Win/lose count 1.5/1.0. Average score (2.0)\n",
            "Win/lose count 6.0/4.0. Average score (2.0)\n",
            "Win/lose count 6.0/3.0. Average score (2.2)\n",
            "Win/lose count 7.0/2.0. Average score (2.6666666666666665)\n",
            "Win/lose count 3.0/3.0. Average score (2.2857142857142856)\n",
            "Win/lose count 6.5/6.0. Average score (2.0625)\n",
            "Win/lose count 2.5/1.0. Average score (2.0)\n",
            "Win/lose count 3.0/1.0. Average score (2.0)\n",
            "Win/lose count 0.5/2.0. Average score (1.6818181818181819)\n",
            "Win/lose count 6.5/4.0. Average score (1.75)\n",
            "Win/lose count 2.0/1.0. Average score (1.6923076923076923)\n",
            "Win/lose count 6.0/1.0. Average score (1.9285714285714286)\n",
            "Win/lose count 7.5/3.0. Average score (2.1)\n",
            "Win/lose count 1.5/2.0. Average score (1.9375)\n",
            "Win/lose count 4.5/6.0. Average score (1.7352941176470589)\n",
            "Win/lose count 9.5/3.0. Average score (2.0)\n",
            "Win/lose count 5.0/3.0. Average score (2.0)\n",
            "Win/lose count 1.5/0. Average score (1.975)\n",
            "Final score: 1.975\n"
          ],
          "name": "stdout"
        }
      ]
    },
    {
      "cell_type": "code",
      "metadata": {
        "id": "NE0H4SoYeTpb",
        "colab_type": "code",
        "outputId": "f460479f-4e7f-4188-a07f-1b6664c28489",
        "colab": {
          "base_uri": "https://localhost:8080/",
          "height": 293
        }
      },
      "source": [
        "HTML(display_videos('cnn_test10.mp4'))"
      ],
      "execution_count": 0,
      "outputs": [
        {
          "output_type": "execute_result",
          "data": {
            "text/html": [
              "<video alt=\"test\" controls>\n",
              "                <source src=\"data:video/mp4;base64,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\" type=\"video/mp4\" />\n",
              "             </video>"
            ],
            "text/plain": [
              "<IPython.core.display.HTML object>"
            ]
          },
          "metadata": {
            "tags": []
          },
          "execution_count": 38
        }
      ]
    },
    {
      "cell_type": "code",
      "metadata": {
        "id": "skbclN6FeTph",
        "colab_type": "code",
        "outputId": "6aa8a1a3-edd6-4fa8-a2fb-55909a5c53dd",
        "colab": {
          "base_uri": "https://localhost:8080/",
          "height": 293
        }
      },
      "source": [
        "HTML(display_videos('fc_test10.mp4'))"
      ],
      "execution_count": 0,
      "outputs": [
        {
          "output_type": "execute_result",
          "data": {
            "text/html": [
              "<video alt=\"test\" controls>\n",
              "                <source src=\"data:video/mp4;base64,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\" type=\"video/mp4\" />\n",
              "             </video>"
            ],
            "text/plain": [
              "<IPython.core.display.HTML object>"
            ]
          },
          "metadata": {
            "tags": []
          },
          "execution_count": 39
        }
      ]
    },
    {
      "cell_type": "markdown",
      "metadata": {
        "id": "uv2JcCRTeTpm",
        "colab_type": "text"
      },
      "source": [
        "One of the main issues is that, for both algorithms, the rat quickly tends to turn in circles and so a large part of the map stays unexplored. Indeed, in a few set of states, nothing seems to attract the rat and it keeps going back and forward. This is why the rat gets easily stuck for lower temperatures. Furthermore, we also notice that the performance of our algorithm is better if we keep exploring with a probability $\\epsilon$ during the test (agent.act(state,train=True)) which seems logical according to the issue we've just stated.We can also note that both algorithms get far better results than the RandomAgent which shows that our algorithms are a big improvement. Moreover, CNN seems to outperform FC and we will therefore keep this architecture for the next question.\n",
        "\n"
      ]
    },
    {
      "cell_type": "markdown",
      "metadata": {
        "id": "OzIZWfnCeTpm",
        "colab_type": "text"
      },
      "source": [
        "***\n",
        "\n",
        "The algorithm tends to not explore the map which can be an issue. We propose two ideas in order to encourage exploration:\n",
        "1. Incorporating a decreasing $\\epsilon$-greedy exploration. You can use the method ```set_epsilon```\n",
        "2. Append via the environment a new state that describes if a cell has been visited or not\n",
        "\n",
        "***\n",
        "__Question 10__ Design a new ```train_explore``` function and environment class ```EnvironmentExploring``` to tackle the issue of exploration.\n",
        "\n"
      ]
    },
    {
      "cell_type": "code",
      "metadata": {
        "id": "ei29ZkaVeTpo",
        "colab_type": "code",
        "outputId": "28eeb7c4-0b4b-474a-b8cd-e945c01316b8",
        "colab": {
          "base_uri": "https://localhost:8080/",
          "height": 54
        }
      },
      "source": [
        "def train_explore(agent,env,epoch,prefix=''):\n",
        "    # Number of won games\n",
        "    score = 0\n",
        "    loss = 0\n",
        "    \n",
        "    #Linear decreasing in epsilon to 0.1\n",
        "    eps_init=agent.epsilon\n",
        "    if eps_init<=0.1:\n",
        "      alpha=0\n",
        "    if eps_init>0.1:\n",
        "      if epoch>200:\n",
        "        alpha=(eps_init-0.1)/20\n",
        "      else:\n",
        "        alpha=(eps_init-0.1)/(max(1,epoch//10))\n",
        "\n",
        "    for e in range(epoch):\n",
        "        # At each epoch, we restart to a fresh game and get the initial state\n",
        "        state = env.reset()\n",
        "        # This assumes that the games will terminate\n",
        "        game_over = False\n",
        "\n",
        "        win = 0\n",
        "        lose = 0\n",
        "        if e%10==0 and e<=200:\n",
        "          agent.set_epsilon(eps_init-(e//10)*alpha)\n",
        "        while not game_over:\n",
        "            # The agent performs an action\n",
        "            action = agent.act(state)\n",
        "\n",
        "            # Apply an action to the environment, get the next state, the reward\n",
        "            # and if the games end\n",
        "            prev_state = state\n",
        "            state, reward, game_over = env.act(action,train=True)\n",
        "            \n",
        "            #Change reward so we can compare the new algorithm with the old ones\n",
        "            reward_compare=reward+env.last_malus_position\n",
        "            # Update the counters\n",
        "            if reward_compare > 0:\n",
        "                win = round(win + reward_compare,2)\n",
        "            if reward_compare < 0:\n",
        "                lose = round(lose - reward_compare,2)\n",
        "\n",
        "            # Apply the reinforcement strategy\n",
        "            loss = agent.reinforce(prev_state, state,  action, reward, game_over)\n",
        "\n",
        "        # Save as a mp4\n",
        "        if e % 10 == 0:\n",
        "            env.draw(prefix+str(e))\n",
        "\n",
        "        # Update stats\n",
        "        score += win-lose\n",
        "\n",
        "        print(\"Epoch {:03d}/{:03d} | Loss {:.4f} | Win/lose count {}/{} ({})\"\n",
        "              .format(e, epoch, loss, win, lose, win-lose))\n",
        "        agent.save(name_weights=prefix+'model.h5',name_model=prefix+'model.json')\n",
        "        \n",
        "class EnvironmentExploring(Environment):\n",
        "    def __init__(self, grid_size=10, max_time=500, temperature=0.1):\n",
        "        super(EnvironmentExploring, self).__init__(grid_size=10, max_time=500, temperature=0.1)\n",
        "\n",
        "        #New state: visited cells\n",
        "        self.malus_position=np.zeros((self.grid_size, self.grid_size))\n",
        "        self.last_malus_position=0\n",
        "    def act(self, action,train=False):\n",
        "        \"\"\"This function returns the new state, reward and decides if the\n",
        "        game ends.\"\"\"\n",
        "\n",
        "        self.get_frame(int(self.t))\n",
        "\n",
        "        self.position = np.zeros((self.grid_size, self.grid_size))\n",
        "\n",
        "        self.position[0:2,:]= -1\n",
        "        self.position[:,0:2] = -1\n",
        "        self.position[-2:, :] = -1\n",
        "        #self.position[-2:, :] = -1\n",
        "        self.position[:, -2:] = -1\n",
        "\n",
        "        self.position[self.x, self.y] = 1\n",
        "        if action == 0:\n",
        "            if self.x == self.grid_size-3:\n",
        "                self.x = self.x-1\n",
        "            else:\n",
        "                self.x = self.x + 1\n",
        "        elif action == 1:\n",
        "            if self.x == 2:\n",
        "                self.x = self.x+1\n",
        "            else:\n",
        "                self.x = self.x-1\n",
        "        elif action == 2:\n",
        "            if self.y == self.grid_size - 3:\n",
        "                self.y = self.y - 1\n",
        "            else:\n",
        "                self.y = self.y + 1\n",
        "        elif action == 3:\n",
        "            if self.y == 2:\n",
        "                self.y = self.y + 1\n",
        "            else:\n",
        "                self.y = self.y - 1\n",
        "        else:\n",
        "            RuntimeError('Error: action not recognized')\n",
        "\n",
        "        self.t = self.t + 1\n",
        "        #visited state\n",
        "        reward = 0\n",
        "        if train:\n",
        "          reward = -self.malus_position[self.x, self.y]\n",
        "          self.last_malus_position=self.malus_position[self.x, self.y]\n",
        "        self.malus_position[self.x, self.y] = 0.1\n",
        "        reward = reward + self.board[self.x, self.y]\n",
        "        self.board[self.x, self.y] = 0\n",
        "        game_over = self.t > self.max_time\n",
        "        state = np.concatenate((self.malus_position.reshape(self.grid_size, self.grid_size,1),\n",
        "                                self.board.reshape(self.grid_size, self.grid_size,1),\n",
        "                        self.position.reshape(self.grid_size, self.grid_size,1)),axis=2)\n",
        "        state = state[self.x-2:self.x+3,self.y-2:self.y+3,:]\n",
        "\n",
        "        return state, reward, game_over\n",
        "\n",
        "    def reset(self):\n",
        "        \"\"\"This function resets the game and returns the initial state\"\"\"\n",
        "\n",
        "        self.x = np.random.randint(3, self.grid_size-3, size=1)[0]\n",
        "        self.y = np.random.randint(3, self.grid_size-3, size=1)[0]\n",
        "\n",
        "\n",
        "        bonus = 0.5*np.random.binomial(1,self.temperature,size=self.grid_size**2)\n",
        "        bonus = bonus.reshape(self.grid_size,self.grid_size)\n",
        "\n",
        "        malus = -1.0*np.random.binomial(1,self.temperature,size=self.grid_size**2)\n",
        "        malus = malus.reshape(self.grid_size, self.grid_size)\n",
        "\n",
        "        self.to_draw = np.zeros((self.max_time+2, self.grid_size*self.scale, self.grid_size*self.scale, 3))\n",
        "\n",
        "\n",
        "        malus[bonus>0]=0\n",
        "\n",
        "        self.board = bonus + malus\n",
        "\n",
        "        self.position = np.zeros((self.grid_size, self.grid_size))\n",
        "        self.position[0:2,:]= -1\n",
        "        self.position[:,0:2] = -1\n",
        "        self.position[-2:, :] = -1\n",
        "        #self.position[-2:, :] = -1\n",
        "        self.position[:, -2:] = -1\n",
        "        self.board[self.x,self.y] = 0\n",
        "        self.t = 0\n",
        "\n",
        "        #Visited cells\n",
        "        self.malus_position=np.zeros((self.grid_size, self.grid_size))\n",
        "        self.malus_position[self.x,self.y] = 0.1\n",
        "        self.last_malus_position=0\n",
        "        state = np.concatenate((self.malus_position.reshape(self.grid_size, self.grid_size,1),\n",
        "                                self.board.reshape(self.grid_size, self.grid_size,1),\n",
        "                        self.position.reshape(self.grid_size, self.grid_size,1)),axis=2)\n",
        "\n",
        "        state = state[self.x - 2:self.x + 3, self.y - 2:self.y + 3, :]\n",
        "        return state\n",
        "    "
      ],
      "execution_count": 14,
      "outputs": [
        {
          "output_type": "execute_result",
          "data": {
            "text/plain": [
              "'reward = 0\\nif train:\\n    reward = -self.malus_position[self.x, self.y]\\nself.malus_position[self.x, self.y] = 0.1\\n\\nreward = reward + self.board[self.x, self.y]\\n# 3 \"feature\" states instead of 2\\nstate = np.concatenate((self.malus_position.reshape(self.grid_size, self.grid_size,1),\\n                                self.board.reshape(self.grid_size, self.grid_size,1),\\n                        self.position.reshape(self.grid_size, self.grid_size,1)),axis=2)'"
            ]
          },
          "metadata": {
            "tags": []
          },
          "execution_count": 14
        }
      ]
    },
    {
      "cell_type": "code",
      "metadata": {
        "id": "QxdJBnU5eTpr",
        "colab_type": "code",
        "outputId": "09ac2c6a-f1cb-4157-d4d3-6caf9e75d215",
        "colab": {
          "base_uri": "https://localhost:8080/",
          "height": 1000
        }
      },
      "source": [
        "# Training\n",
        "env = EnvironmentExploring(grid_size=size, max_time=T, temperature=0.3)\n",
        "agent = DQN_CNN(size, lr=.0001, epsilon = 0.9, memory_size=2000, batch_size = 32,n_state=3)\n",
        "train_explore(agent, env, 300, prefix='cnn_train_explore')\n",
        "HTML(display_videos('cnn_train_explore10.mp4'))"
      ],
      "execution_count": 15,
      "outputs": [
        {
          "output_type": "stream",
          "text": [
            "WARNING:tensorflow:From /usr/local/lib/python3.6/dist-packages/keras/backend/tensorflow_backend.py:66: The name tf.get_default_graph is deprecated. Please use tf.compat.v1.get_default_graph instead.\n",
            "\n",
            "WARNING:tensorflow:From /usr/local/lib/python3.6/dist-packages/keras/backend/tensorflow_backend.py:541: The name tf.placeholder is deprecated. Please use tf.compat.v1.placeholder instead.\n",
            "\n",
            "WARNING:tensorflow:From /usr/local/lib/python3.6/dist-packages/keras/backend/tensorflow_backend.py:4432: The name tf.random_uniform is deprecated. Please use tf.random.uniform instead.\n",
            "\n",
            "WARNING:tensorflow:From /usr/local/lib/python3.6/dist-packages/keras/optimizers.py:793: The name tf.train.Optimizer is deprecated. Please use tf.compat.v1.train.Optimizer instead.\n",
            "\n",
            "WARNING:tensorflow:From /usr/local/lib/python3.6/dist-packages/keras/backend/tensorflow_backend.py:3005: The name tf.Session is deprecated. Please use tf.compat.v1.Session instead.\n",
            "\n",
            "WARNING:tensorflow:From /usr/local/lib/python3.6/dist-packages/keras/backend/tensorflow_backend.py:190: The name tf.get_default_session is deprecated. Please use tf.compat.v1.get_default_session instead.\n",
            "\n",
            "WARNING:tensorflow:From /usr/local/lib/python3.6/dist-packages/keras/backend/tensorflow_backend.py:197: The name tf.ConfigProto is deprecated. Please use tf.compat.v1.ConfigProto instead.\n",
            "\n",
            "WARNING:tensorflow:From /usr/local/lib/python3.6/dist-packages/keras/backend/tensorflow_backend.py:207: The name tf.global_variables is deprecated. Please use tf.compat.v1.global_variables instead.\n",
            "\n",
            "WARNING:tensorflow:From /usr/local/lib/python3.6/dist-packages/keras/backend/tensorflow_backend.py:216: The name tf.is_variable_initialized is deprecated. Please use tf.compat.v1.is_variable_initialized instead.\n",
            "\n",
            "WARNING:tensorflow:From /usr/local/lib/python3.6/dist-packages/keras/backend/tensorflow_backend.py:223: The name tf.variables_initializer is deprecated. Please use tf.compat.v1.variables_initializer instead.\n",
            "\n",
            "WARNING:tensorflow:From /usr/local/lib/python3.6/dist-packages/keras/backend/tensorflow_backend.py:1033: The name tf.assign_add is deprecated. Please use tf.compat.v1.assign_add instead.\n",
            "\n",
            "WARNING:tensorflow:From /usr/local/lib/python3.6/dist-packages/keras/backend/tensorflow_backend.py:1020: The name tf.assign is deprecated. Please use tf.compat.v1.assign instead.\n",
            "\n",
            "Epoch 000/300 | Loss 0.0016 | Win/lose count 3.5/50.6 (-47.1)\n",
            "Epoch 001/300 | Loss 0.0015 | Win/lose count 3.0/49.0 (-46.0)\n",
            "Epoch 002/300 | Loss 0.0022 | Win/lose count 6.0/48.4 (-42.4)\n",
            "Epoch 003/300 | Loss 0.0021 | Win/lose count 5.0/44.5 (-39.5)\n",
            "Epoch 004/300 | Loss 0.0025 | Win/lose count 3.5/56.7 (-53.2)\n",
            "Epoch 005/300 | Loss 0.0028 | Win/lose count 3.5/44.7 (-41.2)\n",
            "Epoch 006/300 | Loss 0.0011 | Win/lose count 5.5/47.6 (-42.1)\n",
            "Epoch 007/300 | Loss 0.0014 | Win/lose count 5.5/49.5 (-44.0)\n",
            "Epoch 008/300 | Loss 0.0005 | Win/lose count 4.5/54.0 (-49.5)\n",
            "Epoch 009/300 | Loss 0.0021 | Win/lose count 3.5/50.2 (-46.7)\n",
            "Epoch 010/300 | Loss 0.0023 | Win/lose count 6.0/48.5 (-42.5)\n",
            "Epoch 011/300 | Loss 0.0012 | Win/lose count 5.0/49.1 (-44.1)\n",
            "Epoch 012/300 | Loss 0.0015 | Win/lose count 5.0/52.8 (-47.8)\n",
            "Epoch 013/300 | Loss 0.0015 | Win/lose count 4.5/48.0 (-43.5)\n",
            "Epoch 014/300 | Loss 0.0005 | Win/lose count 6.0/50.9 (-44.9)\n",
            "Epoch 015/300 | Loss 0.0005 | Win/lose count 4.0/52.4 (-48.4)\n",
            "Epoch 016/300 | Loss 0.0007 | Win/lose count 7.0/49.5 (-42.5)\n",
            "Epoch 017/300 | Loss 0.0012 | Win/lose count 3.0/47.7 (-44.7)\n",
            "Epoch 018/300 | Loss 0.0026 | Win/lose count 3.0/50.2 (-47.2)\n",
            "Epoch 019/300 | Loss 0.0004 | Win/lose count 6.0/49.5 (-43.5)\n",
            "Epoch 020/300 | Loss 0.0008 | Win/lose count 5.5/45.6 (-40.1)\n",
            "Epoch 021/300 | Loss 0.0009 | Win/lose count 6.5/46.2 (-39.7)\n",
            "Epoch 022/300 | Loss 0.0010 | Win/lose count 6.5/45.9 (-39.4)\n",
            "Epoch 023/300 | Loss 0.0013 | Win/lose count 4.5/48.9 (-44.4)\n",
            "Epoch 024/300 | Loss 0.0002 | Win/lose count 4.5/46.4 (-41.9)\n",
            "Epoch 025/300 | Loss 0.0004 | Win/lose count 6.0/48.3 (-42.3)\n",
            "Epoch 026/300 | Loss 0.0006 | Win/lose count 4.5/46.4 (-41.9)\n",
            "Epoch 027/300 | Loss 0.0013 | Win/lose count 6.0/44.6 (-38.6)\n",
            "Epoch 028/300 | Loss 0.0005 | Win/lose count 5.5/53.4 (-47.9)\n",
            "Epoch 029/300 | Loss 0.0004 | Win/lose count 4.0/50.7 (-46.7)\n",
            "Epoch 030/300 | Loss 0.0005 | Win/lose count 5.0/43.4 (-38.4)\n",
            "Epoch 031/300 | Loss 0.0009 | Win/lose count 5.5/51.9 (-46.4)\n",
            "Epoch 032/300 | Loss 0.0012 | Win/lose count 5.5/48.6 (-43.1)\n",
            "Epoch 033/300 | Loss 0.0006 | Win/lose count 6.5/52.7 (-46.2)\n",
            "Epoch 034/300 | Loss 0.0007 | Win/lose count 5.0/46.5 (-41.5)\n",
            "Epoch 035/300 | Loss 0.0003 | Win/lose count 2.5/46.7 (-44.2)\n",
            "Epoch 036/300 | Loss 0.0005 | Win/lose count 7.5/45.6 (-38.1)\n",
            "Epoch 037/300 | Loss 0.0021 | Win/lose count 5.5/48.8 (-43.3)\n",
            "Epoch 038/300 | Loss 0.0020 | Win/lose count 4.5/46.8 (-42.3)\n",
            "Epoch 039/300 | Loss 0.0020 | Win/lose count 6.0/49.0 (-43.0)\n",
            "Epoch 040/300 | Loss 0.0002 | Win/lose count 5.0/52.4 (-47.4)\n",
            "Epoch 041/300 | Loss 0.0011 | Win/lose count 3.0/52.4 (-49.4)\n",
            "Epoch 042/300 | Loss 0.0005 | Win/lose count 6.0/47.5 (-41.5)\n",
            "Epoch 043/300 | Loss 0.0002 | Win/lose count 5.5/48.6 (-43.1)\n",
            "Epoch 044/300 | Loss 0.0004 | Win/lose count 4.0/48.6 (-44.6)\n",
            "Epoch 045/300 | Loss 0.0004 | Win/lose count 5.0/48.2 (-43.2)\n",
            "Epoch 046/300 | Loss 0.0002 | Win/lose count 5.0/42.8 (-37.8)\n",
            "Epoch 047/300 | Loss 0.0006 | Win/lose count 3.5/54.2 (-50.7)\n",
            "Epoch 048/300 | Loss 0.0002 | Win/lose count 6.0/48.4 (-42.4)\n",
            "Epoch 049/300 | Loss 0.0004 | Win/lose count 5.0/45.8 (-40.8)\n",
            "Epoch 050/300 | Loss 0.0004 | Win/lose count 6.0/49.7 (-43.7)\n",
            "Epoch 051/300 | Loss 0.0005 | Win/lose count 4.0/46.0 (-42.0)\n",
            "Epoch 052/300 | Loss 0.0002 | Win/lose count 5.5/43.8 (-38.3)\n",
            "Epoch 053/300 | Loss 0.0002 | Win/lose count 5.0/49.2 (-44.2)\n",
            "Epoch 054/300 | Loss 0.0005 | Win/lose count 2.5/45.6 (-43.1)\n",
            "Epoch 055/300 | Loss 0.0004 | Win/lose count 3.0/43.8 (-40.8)\n",
            "Epoch 056/300 | Loss 0.0005 | Win/lose count 2.5/50.6 (-48.1)\n",
            "Epoch 057/300 | Loss 0.0006 | Win/lose count 4.5/50.1 (-45.6)\n",
            "Epoch 058/300 | Loss 0.0002 | Win/lose count 3.5/49.8 (-46.3)\n",
            "Epoch 059/300 | Loss 0.0010 | Win/lose count 7.0/47.4 (-40.4)\n",
            "Epoch 060/300 | Loss 0.0004 | Win/lose count 6.0/50.8 (-44.8)\n",
            "Epoch 061/300 | Loss 0.0010 | Win/lose count 5.0/43.8 (-38.8)\n",
            "Epoch 062/300 | Loss 0.0007 | Win/lose count 6.0/48.2 (-42.2)\n",
            "Epoch 063/300 | Loss 0.0005 | Win/lose count 5.0/51.1 (-46.1)\n",
            "Epoch 064/300 | Loss 0.0003 | Win/lose count 3.5/46.4 (-42.9)\n",
            "Epoch 065/300 | Loss 0.0004 | Win/lose count 4.0/52.2 (-48.2)\n",
            "Epoch 066/300 | Loss 0.0005 | Win/lose count 3.0/44.7 (-41.7)\n",
            "Epoch 067/300 | Loss 0.0004 | Win/lose count 5.0/49.3 (-44.3)\n",
            "Epoch 068/300 | Loss 0.0005 | Win/lose count 3.5/50.4 (-46.9)\n",
            "Epoch 069/300 | Loss 0.0003 | Win/lose count 5.0/46.0 (-41.0)\n",
            "Epoch 070/300 | Loss 0.0004 | Win/lose count 6.0/46.5 (-40.5)\n",
            "Epoch 071/300 | Loss 0.0013 | Win/lose count 4.5/51.3 (-46.8)\n",
            "Epoch 072/300 | Loss 0.0002 | Win/lose count 5.5/46.2 (-40.7)\n",
            "Epoch 073/300 | Loss 0.0006 | Win/lose count 5.0/43.8 (-38.8)\n",
            "Epoch 074/300 | Loss 0.0002 | Win/lose count 5.5/47.0 (-41.5)\n",
            "Epoch 075/300 | Loss 0.0011 | Win/lose count 7.5/49.5 (-42.0)\n",
            "Epoch 076/300 | Loss 0.0003 | Win/lose count 2.0/48.2 (-46.2)\n",
            "Epoch 077/300 | Loss 0.0007 | Win/lose count 2.5/51.6 (-49.1)\n",
            "Epoch 078/300 | Loss 0.0004 | Win/lose count 5.0/46.7 (-41.7)\n",
            "Epoch 079/300 | Loss 0.0004 | Win/lose count 7.0/49.7 (-42.7)\n",
            "Epoch 080/300 | Loss 0.0009 | Win/lose count 2.5/47.4 (-44.9)\n",
            "Epoch 081/300 | Loss 0.0008 | Win/lose count 5.0/47.6 (-42.6)\n",
            "Epoch 082/300 | Loss 0.0004 | Win/lose count 6.5/44.9 (-38.4)\n",
            "Epoch 083/300 | Loss 0.0057 | Win/lose count 2.0/45.9 (-43.9)\n",
            "Epoch 084/300 | Loss 0.0007 | Win/lose count 5.0/48.7 (-43.7)\n",
            "Epoch 085/300 | Loss 0.0011 | Win/lose count 3.5/44.4 (-40.9)\n",
            "Epoch 086/300 | Loss 0.0008 | Win/lose count 6.0/50.2 (-44.2)\n",
            "Epoch 087/300 | Loss 0.0004 | Win/lose count 6.0/42.6 (-36.6)\n",
            "Epoch 088/300 | Loss 0.0002 | Win/lose count 2.0/50.8 (-48.8)\n",
            "Epoch 089/300 | Loss 0.0001 | Win/lose count 5.0/44.6 (-39.6)\n",
            "Epoch 090/300 | Loss 0.0009 | Win/lose count 4.0/46.0 (-42.0)\n",
            "Epoch 091/300 | Loss 0.0010 | Win/lose count 4.0/50.3 (-46.3)\n",
            "Epoch 092/300 | Loss 0.0003 | Win/lose count 2.5/44.7 (-42.2)\n",
            "Epoch 093/300 | Loss 0.0004 | Win/lose count 2.5/50.9 (-48.4)\n",
            "Epoch 094/300 | Loss 0.0003 | Win/lose count 6.5/48.0 (-41.5)\n",
            "Epoch 095/300 | Loss 0.0002 | Win/lose count 10.0/43.5 (-33.5)\n",
            "Epoch 096/300 | Loss 0.0002 | Win/lose count 5.0/45.5 (-40.5)\n",
            "Epoch 097/300 | Loss 0.0003 | Win/lose count 5.0/51.5 (-46.5)\n",
            "Epoch 098/300 | Loss 0.0005 | Win/lose count 5.0/48.6 (-43.6)\n",
            "Epoch 099/300 | Loss 0.0002 | Win/lose count 3.0/47.4 (-44.4)\n",
            "Epoch 100/300 | Loss 0.0003 | Win/lose count 6.5/46.8 (-40.3)\n",
            "Epoch 101/300 | Loss 0.0010 | Win/lose count 4.0/47.1 (-43.1)\n",
            "Epoch 102/300 | Loss 0.0007 | Win/lose count 3.5/51.5 (-48.0)\n",
            "Epoch 103/300 | Loss 0.0006 | Win/lose count 2.5/48.9 (-46.4)\n",
            "Epoch 104/300 | Loss 0.0005 | Win/lose count 2.0/48.1 (-46.1)\n",
            "Epoch 105/300 | Loss 0.0006 | Win/lose count 6.0/43.7 (-37.7)\n",
            "Epoch 106/300 | Loss 0.0003 | Win/lose count 7.0/44.0 (-37.0)\n",
            "Epoch 107/300 | Loss 0.0018 | Win/lose count 7.5/48.3 (-40.8)\n",
            "Epoch 108/300 | Loss 0.0004 | Win/lose count 5.0/48.5 (-43.5)\n",
            "Epoch 109/300 | Loss 0.0004 | Win/lose count 7.0/45.9 (-38.9)\n",
            "Epoch 110/300 | Loss 0.0003 | Win/lose count 6.5/45.8 (-39.3)\n",
            "Epoch 111/300 | Loss 0.0006 | Win/lose count 4.0/50.5 (-46.5)\n",
            "Epoch 112/300 | Loss 0.0003 | Win/lose count 4.5/48.9 (-44.4)\n",
            "Epoch 113/300 | Loss 0.0003 | Win/lose count 4.5/48.6 (-44.1)\n",
            "Epoch 114/300 | Loss 0.0005 | Win/lose count 5.0/45.8 (-40.8)\n",
            "Epoch 115/300 | Loss 0.0002 | Win/lose count 5.0/48.9 (-43.9)\n",
            "Epoch 116/300 | Loss 0.0004 | Win/lose count 5.5/45.4 (-39.9)\n",
            "Epoch 117/300 | Loss 0.0002 | Win/lose count 4.0/47.3 (-43.3)\n",
            "Epoch 118/300 | Loss 0.0020 | Win/lose count 6.0/45.0 (-39.0)\n",
            "Epoch 119/300 | Loss 0.0005 | Win/lose count 4.5/48.2 (-43.7)\n",
            "Epoch 120/300 | Loss 0.0004 | Win/lose count 1.5/46.4 (-44.9)\n",
            "Epoch 121/300 | Loss 0.0001 | Win/lose count 4.5/49.7 (-45.2)\n",
            "Epoch 122/300 | Loss 0.0005 | Win/lose count 4.5/48.5 (-44.0)\n",
            "Epoch 123/300 | Loss 0.0004 | Win/lose count 4.5/44.2 (-39.7)\n",
            "Epoch 124/300 | Loss 0.0007 | Win/lose count 6.0/49.2 (-43.2)\n",
            "Epoch 125/300 | Loss 0.0002 | Win/lose count 4.0/50.5 (-46.5)\n",
            "Epoch 126/300 | Loss 0.0003 | Win/lose count 7.0/49.9 (-42.9)\n",
            "Epoch 127/300 | Loss 0.0007 | Win/lose count 3.5/48.9 (-45.4)\n",
            "Epoch 128/300 | Loss 0.0014 | Win/lose count 4.5/46.9 (-42.4)\n",
            "Epoch 129/300 | Loss 0.0008 | Win/lose count 8.5/48.0 (-39.5)\n",
            "Epoch 130/300 | Loss 0.0005 | Win/lose count 3.0/49.8 (-46.8)\n",
            "Epoch 131/300 | Loss 0.0003 | Win/lose count 4.0/44.7 (-40.7)\n",
            "Epoch 132/300 | Loss 0.0014 | Win/lose count 4.5/46.1 (-41.6)\n",
            "Epoch 133/300 | Loss 0.0002 | Win/lose count 4.5/48.9 (-44.4)\n",
            "Epoch 134/300 | Loss 0.0011 | Win/lose count 5.0/44.6 (-39.6)\n",
            "Epoch 135/300 | Loss 0.0006 | Win/lose count 3.5/45.9 (-42.4)\n",
            "Epoch 136/300 | Loss 0.0011 | Win/lose count 4.0/49.1 (-45.1)\n",
            "Epoch 137/300 | Loss 0.0007 | Win/lose count 4.0/48.3 (-44.3)\n",
            "Epoch 138/300 | Loss 0.0007 | Win/lose count 3.5/46.9 (-43.4)\n",
            "Epoch 139/300 | Loss 0.0003 | Win/lose count 2.5/47.8 (-45.3)\n",
            "Epoch 140/300 | Loss 0.0002 | Win/lose count 4.5/49.1 (-44.6)\n",
            "Epoch 141/300 | Loss 0.0008 | Win/lose count 3.0/47.3 (-44.3)\n",
            "Epoch 142/300 | Loss 0.0004 | Win/lose count 5.0/44.8 (-39.8)\n",
            "Epoch 143/300 | Loss 0.0024 | Win/lose count 4.5/47.7 (-43.2)\n",
            "Epoch 144/300 | Loss 0.0004 | Win/lose count 7.0/47.2 (-40.2)\n",
            "Epoch 145/300 | Loss 0.0002 | Win/lose count 6.5/51.1 (-44.6)\n",
            "Epoch 146/300 | Loss 0.0003 | Win/lose count 6.5/48.4 (-41.9)\n",
            "Epoch 147/300 | Loss 0.0002 | Win/lose count 3.5/45.9 (-42.4)\n",
            "Epoch 148/300 | Loss 0.0003 | Win/lose count 4.5/45.1 (-40.6)\n",
            "Epoch 149/300 | Loss 0.0002 | Win/lose count 4.5/48.5 (-44.0)\n",
            "Epoch 150/300 | Loss 0.0010 | Win/lose count 5.0/46.5 (-41.5)\n",
            "Epoch 151/300 | Loss 0.0010 | Win/lose count 5.5/43.8 (-38.3)\n",
            "Epoch 152/300 | Loss 0.0004 | Win/lose count 3.5/42.8 (-39.3)\n",
            "Epoch 153/300 | Loss 0.0005 | Win/lose count 5.5/46.2 (-40.7)\n",
            "Epoch 154/300 | Loss 0.0005 | Win/lose count 3.5/46.5 (-43.0)\n",
            "Epoch 155/300 | Loss 0.0001 | Win/lose count 2.5/47.4 (-44.9)\n",
            "Epoch 156/300 | Loss 0.0002 | Win/lose count 3.0/46.1 (-43.1)\n",
            "Epoch 157/300 | Loss 0.0002 | Win/lose count 3.0/49.4 (-46.4)\n",
            "Epoch 158/300 | Loss 0.0002 | Win/lose count 4.0/47.3 (-43.3)\n",
            "Epoch 159/300 | Loss 0.0006 | Win/lose count 4.5/51.8 (-47.3)\n",
            "Epoch 160/300 | Loss 0.0002 | Win/lose count 6.0/46.3 (-40.3)\n",
            "Epoch 161/300 | Loss 0.0001 | Win/lose count 2.0/46.7 (-44.7)\n",
            "Epoch 162/300 | Loss 0.0014 | Win/lose count 3.5/48.0 (-44.5)\n",
            "Epoch 163/300 | Loss 0.0002 | Win/lose count 4.0/50.8 (-46.8)\n",
            "Epoch 164/300 | Loss 0.0003 | Win/lose count 3.0/42.5 (-39.5)\n",
            "Epoch 165/300 | Loss 0.0005 | Win/lose count 3.0/47.8 (-44.8)\n",
            "Epoch 166/300 | Loss 0.0001 | Win/lose count 5.0/52.8 (-47.8)\n",
            "Epoch 167/300 | Loss 0.0005 | Win/lose count 6.5/43.1 (-36.6)\n",
            "Epoch 168/300 | Loss 0.0004 | Win/lose count 5.5/47.0 (-41.5)\n",
            "Epoch 169/300 | Loss 0.0002 | Win/lose count 4.0/49.1 (-45.1)\n",
            "Epoch 170/300 | Loss 0.0004 | Win/lose count 8.0/47.9 (-39.9)\n",
            "Epoch 171/300 | Loss 0.0005 | Win/lose count 5.0/46.6 (-41.6)\n",
            "Epoch 172/300 | Loss 0.0004 | Win/lose count 6.5/46.0 (-39.5)\n",
            "Epoch 173/300 | Loss 0.0008 | Win/lose count 2.5/46.6 (-44.1)\n",
            "Epoch 174/300 | Loss 0.0006 | Win/lose count 3.0/52.2 (-49.2)\n",
            "Epoch 175/300 | Loss 0.0005 | Win/lose count 3.0/48.6 (-45.6)\n",
            "Epoch 176/300 | Loss 0.0005 | Win/lose count 1.0/49.7 (-48.7)\n",
            "Epoch 177/300 | Loss 0.0003 | Win/lose count 1.0/47.0 (-46.0)\n",
            "Epoch 178/300 | Loss 0.0001 | Win/lose count 7.0/45.8 (-38.8)\n",
            "Epoch 179/300 | Loss 0.0001 | Win/lose count 4.5/46.4 (-41.9)\n",
            "Epoch 180/300 | Loss 0.0003 | Win/lose count 4.0/48.9 (-44.9)\n",
            "Epoch 181/300 | Loss 0.0005 | Win/lose count 6.0/46.7 (-40.7)\n",
            "Epoch 182/300 | Loss 0.0009 | Win/lose count 4.0/45.6 (-41.6)\n",
            "Epoch 183/300 | Loss 0.0001 | Win/lose count 5.0/45.7 (-40.7)\n",
            "Epoch 184/300 | Loss 0.0008 | Win/lose count 5.0/45.9 (-40.9)\n",
            "Epoch 185/300 | Loss 0.0008 | Win/lose count 3.5/47.0 (-43.5)\n",
            "Epoch 186/300 | Loss 0.0003 | Win/lose count 3.5/45.1 (-41.6)\n",
            "Epoch 187/300 | Loss 0.0032 | Win/lose count 5.0/44.4 (-39.4)\n",
            "Epoch 188/300 | Loss 0.0002 | Win/lose count 6.0/44.6 (-38.6)\n",
            "Epoch 189/300 | Loss 0.0004 | Win/lose count 6.0/46.3 (-40.3)\n",
            "Epoch 190/300 | Loss 0.0003 | Win/lose count 4.5/43.9 (-39.4)\n",
            "Epoch 191/300 | Loss 0.0001 | Win/lose count 2.0/47.2 (-45.2)\n",
            "Epoch 192/300 | Loss 0.0003 | Win/lose count 2.5/46.8 (-44.3)\n",
            "Epoch 193/300 | Loss 0.0001 | Win/lose count 4.5/46.4 (-41.9)\n",
            "Epoch 194/300 | Loss 0.0001 | Win/lose count 5.5/44.7 (-39.2)\n",
            "Epoch 195/300 | Loss 0.0003 | Win/lose count 5.0/46.5 (-41.5)\n",
            "Epoch 196/300 | Loss 0.0005 | Win/lose count 3.0/48.1 (-45.1)\n",
            "Epoch 197/300 | Loss 0.0004 | Win/lose count 2.0/48.9 (-46.9)\n",
            "Epoch 198/300 | Loss 0.0007 | Win/lose count 5.0/43.0 (-38.0)\n",
            "Epoch 199/300 | Loss 0.0001 | Win/lose count 4.5/44.5 (-40.0)\n",
            "Epoch 200/300 | Loss 0.0007 | Win/lose count 3.5/48.6 (-45.1)\n",
            "Epoch 201/300 | Loss 0.0010 | Win/lose count 6.5/46.8 (-40.3)\n",
            "Epoch 202/300 | Loss 0.0001 | Win/lose count 4.0/45.9 (-41.9)\n",
            "Epoch 203/300 | Loss 0.0004 | Win/lose count 4.5/45.1 (-40.6)\n",
            "Epoch 204/300 | Loss 0.0002 | Win/lose count 5.5/43.9 (-38.4)\n",
            "Epoch 205/300 | Loss 0.0001 | Win/lose count 2.0/46.8 (-44.8)\n",
            "Epoch 206/300 | Loss 0.0001 | Win/lose count 7.0/43.1 (-36.1)\n",
            "Epoch 207/300 | Loss 0.0005 | Win/lose count 2.0/47.6 (-45.6)\n",
            "Epoch 208/300 | Loss 0.0002 | Win/lose count 4.0/46.4 (-42.4)\n",
            "Epoch 209/300 | Loss 0.0001 | Win/lose count 3.5/45.8 (-42.3)\n",
            "Epoch 210/300 | Loss 0.0004 | Win/lose count 4.5/44.3 (-39.8)\n",
            "Epoch 211/300 | Loss 0.0003 | Win/lose count 2.5/48.4 (-45.9)\n",
            "Epoch 212/300 | Loss 0.0009 | Win/lose count 2.5/43.5 (-41.0)\n",
            "Epoch 213/300 | Loss 0.0003 | Win/lose count 3.0/49.0 (-46.0)\n",
            "Epoch 214/300 | Loss 0.0004 | Win/lose count 2.0/46.0 (-44.0)\n",
            "Epoch 215/300 | Loss 0.0003 | Win/lose count 4.5/45.3 (-40.8)\n",
            "Epoch 216/300 | Loss 0.0005 | Win/lose count 2.5/45.6 (-43.1)\n",
            "Epoch 217/300 | Loss 0.0003 | Win/lose count 6.0/45.2 (-39.2)\n",
            "Epoch 218/300 | Loss 0.0006 | Win/lose count 2.5/46.3 (-43.8)\n",
            "Epoch 219/300 | Loss 0.0001 | Win/lose count 4.5/45.9 (-41.4)\n",
            "Epoch 220/300 | Loss 0.0011 | Win/lose count 2.5/45.3 (-42.8)\n",
            "Epoch 221/300 | Loss 0.0001 | Win/lose count 6.5/45.1 (-38.6)\n",
            "Epoch 222/300 | Loss 0.0002 | Win/lose count 5.0/43.9 (-38.9)\n",
            "Epoch 223/300 | Loss 0.0008 | Win/lose count 5.0/45.2 (-40.2)\n",
            "Epoch 224/300 | Loss 0.0002 | Win/lose count 3.0/44.3 (-41.3)\n",
            "Epoch 225/300 | Loss 0.0001 | Win/lose count 4.5/42.2 (-37.7)\n",
            "Epoch 226/300 | Loss 0.0018 | Win/lose count 4.0/47.1 (-43.1)\n",
            "Epoch 227/300 | Loss 0.0003 | Win/lose count 6.0/44.9 (-38.9)\n",
            "Epoch 228/300 | Loss 0.0006 | Win/lose count 5.5/45.6 (-40.1)\n",
            "Epoch 229/300 | Loss 0.0007 | Win/lose count 5.5/45.9 (-40.4)\n",
            "Epoch 230/300 | Loss 0.0002 | Win/lose count 4.0/45.1 (-41.1)\n",
            "Epoch 231/300 | Loss 0.0008 | Win/lose count 6.5/46.0 (-39.5)\n",
            "Epoch 232/300 | Loss 0.0004 | Win/lose count 4.0/47.9 (-43.9)\n",
            "Epoch 233/300 | Loss 0.0002 | Win/lose count 2.0/44.0 (-42.0)\n",
            "Epoch 234/300 | Loss 0.0001 | Win/lose count 2.5/44.2 (-41.7)\n",
            "Epoch 235/300 | Loss 0.0003 | Win/lose count 2.5/48.8 (-46.3)\n",
            "Epoch 236/300 | Loss 0.0004 | Win/lose count 3.5/45.1 (-41.6)\n",
            "Epoch 237/300 | Loss 0.0002 | Win/lose count 3.5/46.5 (-43.0)\n",
            "Epoch 238/300 | Loss 0.0005 | Win/lose count 2.5/43.5 (-41.0)\n",
            "Epoch 239/300 | Loss 0.0004 | Win/lose count 4.0/46.8 (-42.8)\n",
            "Epoch 240/300 | Loss 0.0001 | Win/lose count 5.0/44.4 (-39.4)\n",
            "Epoch 241/300 | Loss 0.0003 | Win/lose count 3.5/46.3 (-42.8)\n",
            "Epoch 242/300 | Loss 0.0005 | Win/lose count 2.5/47.0 (-44.5)\n",
            "Epoch 243/300 | Loss 0.0002 | Win/lose count 4.5/44.3 (-39.8)\n",
            "Epoch 244/300 | Loss 0.0010 | Win/lose count 4.5/44.0 (-39.5)\n",
            "Epoch 245/300 | Loss 0.0006 | Win/lose count 4.0/45.8 (-41.8)\n",
            "Epoch 246/300 | Loss 0.0008 | Win/lose count 4.0/47.0 (-43.0)\n",
            "Epoch 247/300 | Loss 0.0002 | Win/lose count 5.0/44.5 (-39.5)\n",
            "Epoch 248/300 | Loss 0.0003 | Win/lose count 4.5/45.0 (-40.5)\n",
            "Epoch 249/300 | Loss 0.0003 | Win/lose count 5.0/45.1 (-40.1)\n",
            "Epoch 250/300 | Loss 0.0002 | Win/lose count 2.0/45.2 (-43.2)\n",
            "Epoch 251/300 | Loss 0.0002 | Win/lose count 6.0/47.0 (-41.0)\n",
            "Epoch 252/300 | Loss 0.0002 | Win/lose count 3.5/47.8 (-44.3)\n",
            "Epoch 253/300 | Loss 0.0010 | Win/lose count 4.5/45.7 (-41.2)\n",
            "Epoch 254/300 | Loss 0.0017 | Win/lose count 5.5/42.3 (-36.8)\n",
            "Epoch 255/300 | Loss 0.0004 | Win/lose count 4.0/48.0 (-44.0)\n",
            "Epoch 256/300 | Loss 0.0003 | Win/lose count 4.0/46.2 (-42.2)\n",
            "Epoch 257/300 | Loss 0.0002 | Win/lose count 5.0/44.8 (-39.8)\n",
            "Epoch 258/300 | Loss 0.0003 | Win/lose count 2.5/49.0 (-46.5)\n",
            "Epoch 259/300 | Loss 0.0002 | Win/lose count 4.5/45.2 (-40.7)\n",
            "Epoch 260/300 | Loss 0.0001 | Win/lose count 2.0/48.9 (-46.9)\n",
            "Epoch 261/300 | Loss 0.0002 | Win/lose count 4.0/45.3 (-41.3)\n",
            "Epoch 262/300 | Loss 0.0002 | Win/lose count 3.0/44.2 (-41.2)\n",
            "Epoch 263/300 | Loss 0.0004 | Win/lose count 5.0/46.0 (-41.0)\n",
            "Epoch 264/300 | Loss 0.0005 | Win/lose count 3.5/46.7 (-43.2)\n",
            "Epoch 265/300 | Loss 0.0009 | Win/lose count 2.0/46.9 (-44.9)\n",
            "Epoch 266/300 | Loss 0.0003 | Win/lose count 4.0/43.2 (-39.2)\n",
            "Epoch 267/300 | Loss 0.0005 | Win/lose count 3.5/45.6 (-42.1)\n",
            "Epoch 268/300 | Loss 0.0002 | Win/lose count 7.5/43.5 (-36.0)\n",
            "Epoch 269/300 | Loss 0.0021 | Win/lose count 4.5/41.9 (-37.4)\n",
            "Epoch 270/300 | Loss 0.0014 | Win/lose count 4.5/43.2 (-38.7)\n",
            "Epoch 271/300 | Loss 0.0001 | Win/lose count 4.0/45.8 (-41.8)\n",
            "Epoch 272/300 | Loss 0.0006 | Win/lose count 5.5/44.0 (-38.5)\n",
            "Epoch 273/300 | Loss 0.0001 | Win/lose count 5.0/43.7 (-38.7)\n",
            "Epoch 274/300 | Loss 0.0002 | Win/lose count 2.0/49.2 (-47.2)\n",
            "Epoch 275/300 | Loss 0.0007 | Win/lose count 1.5/46.0 (-44.5)\n",
            "Epoch 276/300 | Loss 0.0003 | Win/lose count 4.0/46.1 (-42.1)\n",
            "Epoch 277/300 | Loss 0.0002 | Win/lose count 2.0/45.9 (-43.9)\n",
            "Epoch 278/300 | Loss 0.0002 | Win/lose count 4.5/46.3 (-41.8)\n",
            "Epoch 279/300 | Loss 0.0004 | Win/lose count 4.5/43.9 (-39.4)\n",
            "Epoch 280/300 | Loss 0.0003 | Win/lose count 6.5/42.4 (-35.9)\n",
            "Epoch 281/300 | Loss 0.0013 | Win/lose count 7.5/44.2 (-36.7)\n",
            "Epoch 282/300 | Loss 0.0003 | Win/lose count 6.0/45.6 (-39.6)\n",
            "Epoch 283/300 | Loss 0.0002 | Win/lose count 4.0/47.1 (-43.1)\n",
            "Epoch 284/300 | Loss 0.0006 | Win/lose count 1.5/48.5 (-47.0)\n",
            "Epoch 285/300 | Loss 0.0015 | Win/lose count 4.5/44.7 (-40.2)\n",
            "Epoch 286/300 | Loss 0.0004 | Win/lose count 2.5/47.2 (-44.7)\n",
            "Epoch 287/300 | Loss 0.0006 | Win/lose count 5.0/44.2 (-39.2)\n",
            "Epoch 288/300 | Loss 0.0003 | Win/lose count 5.0/43.9 (-38.9)\n",
            "Epoch 289/300 | Loss 0.0001 | Win/lose count 7.0/44.8 (-37.8)\n",
            "Epoch 290/300 | Loss 0.0001 | Win/lose count 2.5/47.9 (-45.4)\n",
            "Epoch 291/300 | Loss 0.0002 | Win/lose count 4.5/46.3 (-41.8)\n",
            "Epoch 292/300 | Loss 0.0009 | Win/lose count 6.5/43.2 (-36.7)\n",
            "Epoch 293/300 | Loss 0.0001 | Win/lose count 4.5/45.4 (-40.9)\n",
            "Epoch 294/300 | Loss 0.0002 | Win/lose count 5.0/45.6 (-40.6)\n",
            "Epoch 295/300 | Loss 0.0002 | Win/lose count 2.5/46.6 (-44.1)\n",
            "Epoch 296/300 | Loss 0.0009 | Win/lose count 4.5/44.3 (-39.8)\n",
            "Epoch 297/300 | Loss 0.0004 | Win/lose count 7.5/46.6 (-39.1)\n",
            "Epoch 298/300 | Loss 0.0005 | Win/lose count 6.0/44.1 (-38.1)\n",
            "Epoch 299/300 | Loss 0.0012 | Win/lose count 3.5/47.0 (-43.5)\n"
          ],
          "name": "stdout"
        },
        {
          "output_type": "execute_result",
          "data": {
            "text/html": [
              "<video alt=\"test\" controls>\n",
              "                <source src=\"data:video/mp4;base64,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\" type=\"video/mp4\" />\n",
              "             </video>"
            ],
            "text/plain": [
              "<IPython.core.display.HTML object>"
            ]
          },
          "metadata": {
            "tags": []
          },
          "execution_count": 15
        }
      ]
    },
    {
      "cell_type": "code",
      "metadata": {
        "id": "kBRgchtKeTpu",
        "colab_type": "code",
        "outputId": "b0f9507f-25fb-4826-8cfc-8b147f025618",
        "colab": {
          "base_uri": "https://localhost:8080/",
          "height": 602
        }
      },
      "source": [
        "# Evaluation\n",
        "test(agent,env,epochs_test,prefix='cnn_test_explore')\n",
        "HTML(display_videos('cnn_test_explore10.mp4'))"
      ],
      "execution_count": 16,
      "outputs": [
        {
          "output_type": "stream",
          "text": [
            "Win/lose count 5.5/3.0. Average score (2.5)\n",
            "Win/lose count 9.5/5.0. Average score (3.5)\n",
            "Win/lose count 6.0/2.0. Average score (3.6666666666666665)\n",
            "Win/lose count 5.5/3.0. Average score (3.375)\n",
            "Win/lose count 4.0/4.0. Average score (2.7)\n",
            "Win/lose count 4.0/1.0. Average score (2.75)\n",
            "Win/lose count 3.5/5.0. Average score (2.142857142857143)\n",
            "Win/lose count 3.5/2.0. Average score (2.0625)\n",
            "Win/lose count 5.5/2.0. Average score (2.2222222222222223)\n",
            "Win/lose count 5.0/2.0. Average score (2.3)\n",
            "Win/lose count 4.5/3.0. Average score (2.227272727272727)\n",
            "Win/lose count 4.5/1.0. Average score (2.3333333333333335)\n",
            "Win/lose count 4.0/3.0. Average score (2.230769230769231)\n",
            "Win/lose count 6.0/4.0. Average score (2.2142857142857144)\n",
            "Win/lose count 1.0/0. Average score (2.1333333333333333)\n",
            "Win/lose count 2.0/1.0. Average score (2.0625)\n",
            "Win/lose count 4.0/1.0. Average score (2.1176470588235294)\n",
            "Win/lose count 5.0/5.0. Average score (2.0)\n",
            "Win/lose count 2.5/1.0. Average score (1.9736842105263157)\n",
            "Win/lose count 4.0/2.0. Average score (1.975)\n",
            "Final score: 1.975\n"
          ],
          "name": "stdout"
        },
        {
          "output_type": "execute_result",
          "data": {
            "text/html": [
              "<video alt=\"test\" controls>\n",
              "                <source src=\"data:video/mp4;base64,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\" type=\"video/mp4\" />\n",
              "             </video>"
            ],
            "text/plain": [
              "<IPython.core.display.HTML object>"
            ]
          },
          "metadata": {
            "tags": []
          },
          "execution_count": 16
        }
      ]
    },
    {
      "cell_type": "markdown",
      "metadata": {
        "id": "vd9CN8s9_mT9",
        "colab_type": "text"
      },
      "source": [
        "As we can see on the video, the rat keeps exploring and doesn't get indefinitely stuck in a minimum as it use to."
      ]
    },
    {
      "cell_type": "markdown",
      "metadata": {
        "id": "p_BvChxoeTpw",
        "colab_type": "text"
      },
      "source": [
        "***\n",
        "***\n",
        "__BONUS question__ Use the expert DQN from the previous question to generate some winning games. Train a model that mimicks its behavior. Compare the performances."
      ]
    },
    {
      "cell_type": "markdown",
      "metadata": {
        "id": "CKjUu3h9eTpx",
        "colab_type": "text"
      },
      "source": [
        ""
      ]
    },
    {
      "cell_type": "markdown",
      "metadata": {
        "id": "hwNG2ZOZeTpy",
        "colab_type": "text"
      },
      "source": [
        "***"
      ]
    }
  ]
}